{
 "cells": [
  {
   "cell_type": "code",
   "execution_count": 1,
   "metadata": {
    "id": "yZ38uCWGna-u"
   },
   "outputs": [],
   "source": [
    "#library yang digunakan\n",
    "import requests\n",
    "from bs4 import BeautifulSoup\n",
    "import csv\n",
    "import pandas as pd"
   ]
  },
  {
   "cell_type": "code",
   "execution_count": 3,
   "metadata": {
    "colab": {
     "base_uri": "https://localhost:8080/"
    },
    "id": "c3vVNmTS3LAR",
    "outputId": "b0ab5adb-101d-4f37-c57b-ac4c8cccef5e"
   },
   "outputs": [
    {
     "name": "stdout",
     "output_type": "stream",
     "text": [
      "Cari kata:water\n",
      "Cari: park\n",
      "jumlah halaman 10,20,50:10\n"
     ]
    },
    {
     "ename": "AttributeError",
     "evalue": "'NoneType' object has no attribute 'text'",
     "output_type": "error",
     "traceback": [
      "\u001b[1;31m---------------------------------------------------------------------------\u001b[0m",
      "\u001b[1;31mAttributeError\u001b[0m                            Traceback (most recent call last)",
      "\u001b[1;32m~\\AppData\\Local\\Temp\\ipykernel_12264\\1887930002.py\u001b[0m in \u001b[0;36m<module>\u001b[1;34m\u001b[0m\n\u001b[0;32m     56\u001b[0m \u001b[1;33m\u001b[0m\u001b[0m\n\u001b[0;32m     57\u001b[0m \u001b[1;32mif\u001b[0m \u001b[0m__name__\u001b[0m \u001b[1;33m==\u001b[0m \u001b[1;34m\"__main__\"\u001b[0m\u001b[1;33m:\u001b[0m\u001b[1;33m\u001b[0m\u001b[1;33m\u001b[0m\u001b[0m\n\u001b[1;32m---> 58\u001b[1;33m     \u001b[0mscrape_acm_data\u001b[0m\u001b[1;33m(\u001b[0m\u001b[1;33m)\u001b[0m\u001b[1;33m\u001b[0m\u001b[1;33m\u001b[0m\u001b[0m\n\u001b[0m",
      "\u001b[1;32m~\\AppData\\Local\\Temp\\ipykernel_12264\\1887930002.py\u001b[0m in \u001b[0;36mscrape_acm_data\u001b[1;34m()\u001b[0m\n\u001b[0;32m     27\u001b[0m                 \u001b[0mauthors\u001b[0m \u001b[1;33m=\u001b[0m \u001b[1;33m[\u001b[0m\u001b[0mauthor\u001b[0m\u001b[1;33m.\u001b[0m\u001b[0mtext\u001b[0m\u001b[1;33m.\u001b[0m\u001b[0mstrip\u001b[0m\u001b[1;33m(\u001b[0m\u001b[1;33m)\u001b[0m \u001b[1;32mfor\u001b[0m \u001b[0mauthor\u001b[0m \u001b[1;32min\u001b[0m \u001b[0marticle\u001b[0m\u001b[1;33m.\u001b[0m\u001b[0mfind_all\u001b[0m\u001b[1;33m(\u001b[0m\u001b[1;34m\"span\"\u001b[0m\u001b[1;33m,\u001b[0m \u001b[0mclass_\u001b[0m\u001b[1;33m=\u001b[0m\u001b[1;34m\"hlFld-ContribAuthor\"\u001b[0m\u001b[1;33m)\u001b[0m\u001b[1;33m]\u001b[0m\u001b[1;33m\u001b[0m\u001b[1;33m\u001b[0m\u001b[0m\n\u001b[0;32m     28\u001b[0m                 \u001b[1;31m#link_download = article.find(\"a\", class_=\"issue-item__title\").get('href')\u001b[0m\u001b[1;33m\u001b[0m\u001b[1;33m\u001b[0m\u001b[0m\n\u001b[1;32m---> 29\u001b[1;33m                 \u001b[0mdoi\u001b[0m \u001b[1;33m=\u001b[0m \u001b[0marticle\u001b[0m\u001b[1;33m.\u001b[0m\u001b[0mfind\u001b[0m\u001b[1;33m(\u001b[0m\u001b[1;34m\"a\"\u001b[0m\u001b[1;33m,\u001b[0m \u001b[0mclass_\u001b[0m\u001b[1;33m=\u001b[0m\u001b[1;34m\"issue-item__doi\"\u001b[0m\u001b[1;33m)\u001b[0m\u001b[1;33m.\u001b[0m\u001b[0mtext\u001b[0m\u001b[1;33m.\u001b[0m\u001b[0mstrip\u001b[0m\u001b[1;33m(\u001b[0m\u001b[1;33m)\u001b[0m\u001b[1;33m\u001b[0m\u001b[1;33m\u001b[0m\u001b[0m\n\u001b[0m\u001b[0;32m     30\u001b[0m \u001b[1;33m\u001b[0m\u001b[0m\n\u001b[0;32m     31\u001b[0m                 data.append({\n",
      "\u001b[1;31mAttributeError\u001b[0m: 'NoneType' object has no attribute 'text'"
     ]
    }
   ],
   "source": [
    "#input pencarian dengan 2 kata\n",
    "key = input(\"Cari kata:\")\n",
    "key1 = input(\"Cari: \")\n",
    "hal = input(\"jumlah halaman 10,20,50:\")\n",
    "#scrape file data\n",
    "def scrape_acm_data():\n",
    "    base_url = \"https://dl.acm.org/action/doSearch?AllField={}+{}&expand=dl&startPage=\".format(key,key1)\n",
    "    data = []\n",
    "\n",
    "    page_num = 1\n",
    "\n",
    "    while True:\n",
    "        url = f\"{base_url}{page_num}&pageSize=\".format(hal)\n",
    "        response = requests.get(url)\n",
    "\n",
    "        if response.status_code == 200:\n",
    "            soup = BeautifulSoup(response.content, \"html.parser\")\n",
    "            articles = soup.find_all(\"div\", class_=\"issue-item\")\n",
    "\n",
    "            if not articles:\n",
    "                break\n",
    "\n",
    "            for index, article in enumerate(articles, start=1):\n",
    "                title = article.find(\"h5\", class_=\"issue-item__title\").text.strip()\n",
    "                abstract = article.find(\"div\", class_=\"issue-item__abstract\").text.strip()\n",
    "                #cited_by = article.find(\"div\", class_=\"issue-item__meta--cited-by\").text.strip().split(\"Cited by \")[-1]\n",
    "                authors = [author.text.strip() for author in article.find_all(\"span\", class_=\"hlFld-ContribAuthor\")]\n",
    "                #link_download = article.find(\"a\", class_=\"issue-item__title\").get('href')\n",
    "                doi = article.find(\"a\", class_=\"issue-item__doi\").text.strip()\n",
    "\n",
    "                data.append({\n",
    "                    'No': len(data) + 1,\n",
    "                    'Title': title,\n",
    "                    'Abstract': abstract,\n",
    "                    #'Cited By': cited_by,\n",
    "                    'Authors': authors,\n",
    "                    'Doi': doi\n",
    "                    #'Link Download': link_download\n",
    "                })\n",
    "\n",
    "            page_num += 1\n",
    "\n",
    "        else:\n",
    "            print(f\"Error: Gagal page {page_num}. Status code: {response.status_code}\")\n",
    "            break\n",
    "\n",
    "    # Simpan data to CSV 'Cited By',, 'Link Download'\n",
    "    with open('{}_acm_data_{}{}.csv'.format(hal, key, key1), mode='w', newline='', encoding='utf-8') as csv_file:\n",
    "        fieldnames = ['No', 'Title', 'Abstract', 'Authors' , 'Doi']\n",
    "        writer = csv.DictWriter(csv_file, fieldnames=fieldnames)\n",
    "        writer.writeheader()\n",
    "        for row in data:\n",
    "            writer.writerow(row)\n",
    "\n",
    "    print(\"Data saved to {}_acm_data_{}{}.csv\".format(hal, key, key1))\n",
    "\n",
    "if __name__ == \"__main__\":\n",
    "    scrape_acm_data()\n"
   ]
  },
  {
   "cell_type": "code",
   "execution_count": null,
   "metadata": {
    "colab": {
     "base_uri": "https://localhost:8080/",
     "height": 4439
    },
    "id": "mIrUQa301e5_",
    "outputId": "1b0f32b1-ad04-4717-d072-1dafe7b355f3"
   },
   "outputs": [],
   "source": [
    "#menampilkan data scv hasil scrapper\n",
    "df = pd.read_csv('{}_acm_data_{}{}.csv'.format(hal, key, key1))\n",
    "df"
   ]
  }
 ],
 "metadata": {
  "colab": {
   "provenance": []
  },
  "kernelspec": {
   "display_name": "Python 3 (ipykernel)",
   "language": "python",
   "name": "python3"
  },
  "language_info": {
   "codemirror_mode": {
    "name": "ipython",
    "version": 3
   },
   "file_extension": ".py",
   "mimetype": "text/x-python",
   "name": "python",
   "nbconvert_exporter": "python",
   "pygments_lexer": "ipython3",
   "version": "3.9.15"
  }
 },
 "nbformat": 4,
 "nbformat_minor": 1
}
