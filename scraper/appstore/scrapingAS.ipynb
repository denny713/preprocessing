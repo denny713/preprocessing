{
 "cells": [
  {
   "cell_type": "code",
   "execution_count": 1,
   "metadata": {
    "colab": {
     "base_uri": "https://localhost:8080/"
    },
    "executionInfo": {
     "elapsed": 20201,
     "status": "ok",
     "timestamp": 1703818147427,
     "user": {
      "displayName": "",
      "userId": ""
     },
     "user_tz": -420
    },
    "id": "8G8Kqo4dU18L",
    "outputId": "d764a7da-be76-478e-aa0b-12d3ac6e1c75",
    "scrolled": true
   },
   "outputs": [
    {
     "name": "stdout",
     "output_type": "stream",
     "text": [
      "Collecting app-store-scraper\n",
      "  Downloading app_store_scraper-0.3.5-py3-none-any.whl (8.3 kB)\n",
      "Collecting requests==2.23.0\n",
      "  Downloading requests-2.23.0-py2.py3-none-any.whl (58 kB)\n",
      "     -------------------------------------- 58.4/58.4 kB 437.9 kB/s eta 0:00:00\n",
      "Collecting urllib3!=1.25.0,!=1.25.1,<1.26,>=1.21.1\n",
      "  Downloading urllib3-1.25.11-py2.py3-none-any.whl (127 kB)\n",
      "     -------------------------------------- 128.0/128.0 kB 1.9 MB/s eta 0:00:00\n",
      "Collecting chardet<4,>=3.0.2\n",
      "  Downloading chardet-3.0.4-py2.py3-none-any.whl (133 kB)\n",
      "     -------------------------------------- 133.4/133.4 kB 2.0 MB/s eta 0:00:00\n",
      "Collecting idna<3,>=2.5\n",
      "  Downloading idna-2.10-py2.py3-none-any.whl (58 kB)\n",
      "     ---------------------------------------- 58.8/58.8 kB 1.6 MB/s eta 0:00:00\n",
      "Requirement already satisfied: certifi>=2017.4.17 in c:\\programdata\\anaconda3\\lib\\site-packages (from requests==2.23.0->app-store-scraper) (2024.2.2)\n",
      "Installing collected packages: chardet, urllib3, idna, requests, app-store-scraper\n",
      "  Attempting uninstall: chardet\n",
      "    Found existing installation: chardet 4.0.0\n",
      "    Uninstalling chardet-4.0.0:\n",
      "      Successfully uninstalled chardet-4.0.0\n",
      "  Attempting uninstall: urllib3\n",
      "    Found existing installation: urllib3 1.26.13\n",
      "    Uninstalling urllib3-1.26.13:\n",
      "      Successfully uninstalled urllib3-1.26.13\n",
      "  Attempting uninstall: idna\n",
      "    Found existing installation: idna 3.4\n",
      "    Uninstalling idna-3.4:\n",
      "      Successfully uninstalled idna-3.4\n",
      "  Attempting uninstall: requests\n",
      "    Found existing installation: requests 2.28.1\n",
      "    Uninstalling requests-2.28.1:\n",
      "      Successfully uninstalled requests-2.28.1\n",
      "Successfully installed app-store-scraper-0.3.5 chardet-3.0.4 idna-2.10 requests-2.23.0 urllib3-1.25.11\n"
     ]
    },
    {
     "name": "stderr",
     "output_type": "stream",
     "text": [
      "ERROR: pip's dependency resolver does not currently take into account all the packages that are installed. This behaviour is the source of the following dependency conflicts.\n",
      "spyder 5.2.2 requires pyqt5<5.13, which is not installed.\n",
      "spyder 5.2.2 requires pyqtwebengine<5.13, which is not installed.\n",
      "torchtext 0.14.1 requires torch==1.13.1, but you have torch 1.12.1 which is incompatible.\n",
      "conda-repo-cli 1.0.24 requires clyent==1.2.1, but you have clyent 1.2.2 which is incompatible.\n",
      "conda-repo-cli 1.0.24 requires nbformat==5.4.0, but you have nbformat 5.7.0 which is incompatible.\n",
      "conda-repo-cli 1.0.24 requires requests==2.28.1, but you have requests 2.23.0 which is incompatible.\n",
      "anaconda-client 1.11.0 requires urllib3>=1.26.4, but you have urllib3 1.25.11 which is incompatible.\n"
     ]
    },
    {
     "name": "stdout",
     "output_type": "stream",
     "text": [
      "Collecting itunes-app-scraper-dmi\n",
      "  Downloading itunes_app_scraper_dmi-0.9.5-py3-none-any.whl (9.7 kB)\n",
      "Requirement already satisfied: requests in c:\\programdata\\anaconda3\\lib\\site-packages (from itunes-app-scraper-dmi) (2.23.0)\n",
      "Requirement already satisfied: certifi>=2017.4.17 in c:\\programdata\\anaconda3\\lib\\site-packages (from requests->itunes-app-scraper-dmi) (2024.2.2)\n",
      "Requirement already satisfied: chardet<4,>=3.0.2 in c:\\programdata\\anaconda3\\lib\\site-packages (from requests->itunes-app-scraper-dmi) (3.0.4)\n",
      "Requirement already satisfied: idna<3,>=2.5 in c:\\programdata\\anaconda3\\lib\\site-packages (from requests->itunes-app-scraper-dmi) (2.10)\n",
      "Requirement already satisfied: urllib3!=1.25.0,!=1.25.1,<1.26,>=1.21.1 in c:\\programdata\\anaconda3\\lib\\site-packages (from requests->itunes-app-scraper-dmi) (1.25.11)\n",
      "Installing collected packages: itunes-app-scraper-dmi\n",
      "Successfully installed itunes-app-scraper-dmi-0.9.5\n",
      "Requirement already satisfied: pymongo[srv] in c:\\programdata\\anaconda3\\lib\\site-packages (4.6.2)\n",
      "Requirement already satisfied: dnspython<3.0.0,>=1.16.0 in c:\\programdata\\anaconda3\\lib\\site-packages (from pymongo[srv]) (2.6.1)\n"
     ]
    }
   ],
   "source": [
    "!pip install app-store-scraper\n",
    "!pip install itunes-app-scraper-dmi\n",
    "!pip install pymongo[srv]"
   ]
  },
  {
   "cell_type": "code",
   "execution_count": 2,
   "metadata": {
    "id": "AiZh5MelSpLH"
   },
   "outputs": [],
   "source": [
    "import pandas as pd\n",
    "\n",
    "# for scraping app info from App Store\n",
    "from itunes_app_scraper.scraper import AppStoreScraper\n",
    "\n",
    "# for scraping app reviews from App Store\n",
    "from app_store_scraper import AppStore\n",
    "\n",
    "# for pretty printing data structures\n",
    "from pprint import pprint\n",
    "\n",
    "# for keeping track of timing\n",
    "import datetime as dt\n",
    "from tzlocal import get_localzone\n",
    "\n",
    "# for building in wait times\n",
    "import random\n",
    "import time\n",
    "\n",
    "## Set up loop to go through all apps\n",
    "import os"
   ]
  },
  {
   "cell_type": "code",
   "execution_count": 3,
   "metadata": {
    "colab": {
     "base_uri": "https://localhost:8080/"
    },
    "executionInfo": {
     "elapsed": 2895,
     "status": "ok",
     "timestamp": 1703818154796,
     "user": {
      "displayName": "",
      "userId": ""
     },
     "user_tz": -420
    },
    "id": "6epGAUu6UOh9",
    "outputId": "c0114e40-8587-403a-bfe9-f2ed4329169a"
   },
   "outputs": [],
   "source": [
    "# from google.colab import drive\n",
    "# drive.mount('/content/drive')"
   ]
  },
  {
   "cell_type": "code",
   "execution_count": 4,
   "metadata": {
    "id": "rADCdJ6gWo4H"
   },
   "outputs": [
    {
     "ename": "ConfigurationError",
     "evalue": "The DNS response does not contain an answer to the question: _mongodb._tcp.kuliah.uohhxud.mongodb.net. IN SRV",
     "output_type": "error",
     "traceback": [
      "\u001b[1;31m---------------------------------------------------------------------------\u001b[0m",
      "\u001b[1;31mConfigurationError\u001b[0m                        Traceback (most recent call last)",
      "\u001b[1;32m~\\AppData\\Local\\Temp\\ipykernel_17892\\4089146627.py\u001b[0m in \u001b[0;36m<module>\u001b[1;34m\u001b[0m\n\u001b[0;32m     10\u001b[0m \u001b[0muri\u001b[0m \u001b[1;33m=\u001b[0m \u001b[1;34m'mongodb+srv://'\u001b[0m\u001b[1;33m+\u001b[0m \u001b[0muser\u001b[0m \u001b[1;33m+\u001b[0m\u001b[1;34m':'\u001b[0m\u001b[1;33m+\u001b[0m \u001b[0msandi\u001b[0m \u001b[1;33m+\u001b[0m\u001b[1;34m'@kuliah.uohhxud.mongodb.net/?retryWrites=true&w=majority'\u001b[0m\u001b[1;33m\u001b[0m\u001b[1;33m\u001b[0m\u001b[0m\n\u001b[0;32m     11\u001b[0m \u001b[1;31m# start client to connect to MongoDB server\u001b[0m\u001b[1;33m\u001b[0m\u001b[1;33m\u001b[0m\u001b[0m\n\u001b[1;32m---> 12\u001b[1;33m \u001b[0mclient\u001b[0m \u001b[1;33m=\u001b[0m \u001b[0mMongoClient\u001b[0m\u001b[1;33m(\u001b[0m\u001b[0muri\u001b[0m\u001b[1;33m)\u001b[0m\u001b[1;33m\u001b[0m\u001b[1;33m\u001b[0m\u001b[0m\n\u001b[0m",
      "\u001b[1;32mC:\\ProgramData\\Anaconda3\\lib\\site-packages\\pymongo\\mongo_client.py\u001b[0m in \u001b[0;36m__init__\u001b[1;34m(self, host, port, document_class, tz_aware, connect, type_registry, **kwargs)\u001b[0m\n\u001b[0;32m    769\u001b[0m                         \u001b[0mkeyword_opts\u001b[0m\u001b[1;33m.\u001b[0m\u001b[0mcased_key\u001b[0m\u001b[1;33m(\u001b[0m\u001b[1;34m\"connecttimeoutms\"\u001b[0m\u001b[1;33m)\u001b[0m\u001b[1;33m,\u001b[0m \u001b[0mtimeout\u001b[0m\u001b[1;33m\u001b[0m\u001b[1;33m\u001b[0m\u001b[0m\n\u001b[0;32m    770\u001b[0m                     )\n\u001b[1;32m--> 771\u001b[1;33m                 res = uri_parser.parse_uri(\n\u001b[0m\u001b[0;32m    772\u001b[0m                     \u001b[0mentity\u001b[0m\u001b[1;33m,\u001b[0m\u001b[1;33m\u001b[0m\u001b[1;33m\u001b[0m\u001b[0m\n\u001b[0;32m    773\u001b[0m                     \u001b[0mport\u001b[0m\u001b[1;33m,\u001b[0m\u001b[1;33m\u001b[0m\u001b[1;33m\u001b[0m\u001b[0m\n",
      "\u001b[1;32mC:\\ProgramData\\Anaconda3\\lib\\site-packages\\pymongo\\uri_parser.py\u001b[0m in \u001b[0;36mparse_uri\u001b[1;34m(uri, default_port, validate, warn, normalize, connect_timeout, srv_service_name, srv_max_hosts)\u001b[0m\n\u001b[0;32m    556\u001b[0m         \u001b[0mconnect_timeout\u001b[0m \u001b[1;33m=\u001b[0m \u001b[0mconnect_timeout\u001b[0m \u001b[1;32mor\u001b[0m \u001b[0moptions\u001b[0m\u001b[1;33m.\u001b[0m\u001b[0mget\u001b[0m\u001b[1;33m(\u001b[0m\u001b[1;34m\"connectTimeoutMS\"\u001b[0m\u001b[1;33m)\u001b[0m\u001b[1;33m\u001b[0m\u001b[1;33m\u001b[0m\u001b[0m\n\u001b[0;32m    557\u001b[0m         \u001b[0mdns_resolver\u001b[0m \u001b[1;33m=\u001b[0m \u001b[0m_SrvResolver\u001b[0m\u001b[1;33m(\u001b[0m\u001b[0mfqdn\u001b[0m\u001b[1;33m,\u001b[0m \u001b[0mconnect_timeout\u001b[0m\u001b[1;33m,\u001b[0m \u001b[0msrv_service_name\u001b[0m\u001b[1;33m,\u001b[0m \u001b[0msrv_max_hosts\u001b[0m\u001b[1;33m)\u001b[0m\u001b[1;33m\u001b[0m\u001b[1;33m\u001b[0m\u001b[0m\n\u001b[1;32m--> 558\u001b[1;33m         \u001b[0mnodes\u001b[0m \u001b[1;33m=\u001b[0m \u001b[0mdns_resolver\u001b[0m\u001b[1;33m.\u001b[0m\u001b[0mget_hosts\u001b[0m\u001b[1;33m(\u001b[0m\u001b[1;33m)\u001b[0m\u001b[1;33m\u001b[0m\u001b[1;33m\u001b[0m\u001b[0m\n\u001b[0m\u001b[0;32m    559\u001b[0m         \u001b[0mdns_options\u001b[0m \u001b[1;33m=\u001b[0m \u001b[0mdns_resolver\u001b[0m\u001b[1;33m.\u001b[0m\u001b[0mget_options\u001b[0m\u001b[1;33m(\u001b[0m\u001b[1;33m)\u001b[0m\u001b[1;33m\u001b[0m\u001b[1;33m\u001b[0m\u001b[0m\n\u001b[0;32m    560\u001b[0m         \u001b[1;32mif\u001b[0m \u001b[0mdns_options\u001b[0m\u001b[1;33m:\u001b[0m\u001b[1;33m\u001b[0m\u001b[1;33m\u001b[0m\u001b[0m\n",
      "\u001b[1;32mC:\\ProgramData\\Anaconda3\\lib\\site-packages\\pymongo\\srv_resolver.py\u001b[0m in \u001b[0;36mget_hosts\u001b[1;34m(self)\u001b[0m\n\u001b[0;32m    129\u001b[0m \u001b[1;33m\u001b[0m\u001b[0m\n\u001b[0;32m    130\u001b[0m     \u001b[1;32mdef\u001b[0m \u001b[0mget_hosts\u001b[0m\u001b[1;33m(\u001b[0m\u001b[0mself\u001b[0m\u001b[1;33m)\u001b[0m \u001b[1;33m->\u001b[0m \u001b[0mlist\u001b[0m\u001b[1;33m[\u001b[0m\u001b[0mtuple\u001b[0m\u001b[1;33m[\u001b[0m\u001b[0mstr\u001b[0m\u001b[1;33m,\u001b[0m \u001b[0mAny\u001b[0m\u001b[1;33m]\u001b[0m\u001b[1;33m]\u001b[0m\u001b[1;33m:\u001b[0m\u001b[1;33m\u001b[0m\u001b[1;33m\u001b[0m\u001b[0m\n\u001b[1;32m--> 131\u001b[1;33m         \u001b[0m_\u001b[0m\u001b[1;33m,\u001b[0m \u001b[0mnodes\u001b[0m \u001b[1;33m=\u001b[0m \u001b[0mself\u001b[0m\u001b[1;33m.\u001b[0m\u001b[0m_get_srv_response_and_hosts\u001b[0m\u001b[1;33m(\u001b[0m\u001b[1;32mTrue\u001b[0m\u001b[1;33m)\u001b[0m\u001b[1;33m\u001b[0m\u001b[1;33m\u001b[0m\u001b[0m\n\u001b[0m\u001b[0;32m    132\u001b[0m         \u001b[1;32mreturn\u001b[0m \u001b[0mnodes\u001b[0m\u001b[1;33m\u001b[0m\u001b[1;33m\u001b[0m\u001b[0m\n\u001b[0;32m    133\u001b[0m \u001b[1;33m\u001b[0m\u001b[0m\n",
      "\u001b[1;32mC:\\ProgramData\\Anaconda3\\lib\\site-packages\\pymongo\\srv_resolver.py\u001b[0m in \u001b[0;36m_get_srv_response_and_hosts\u001b[1;34m(self, encapsulate_errors)\u001b[0m\n\u001b[0;32m    109\u001b[0m         \u001b[0mself\u001b[0m\u001b[1;33m,\u001b[0m \u001b[0mencapsulate_errors\u001b[0m\u001b[1;33m:\u001b[0m \u001b[0mbool\u001b[0m\u001b[1;33m\u001b[0m\u001b[1;33m\u001b[0m\u001b[0m\n\u001b[0;32m    110\u001b[0m     ) -> tuple[resolver.Answer, list[tuple[str, Any]]]:\n\u001b[1;32m--> 111\u001b[1;33m         \u001b[0mresults\u001b[0m \u001b[1;33m=\u001b[0m \u001b[0mself\u001b[0m\u001b[1;33m.\u001b[0m\u001b[0m_resolve_uri\u001b[0m\u001b[1;33m(\u001b[0m\u001b[0mencapsulate_errors\u001b[0m\u001b[1;33m)\u001b[0m\u001b[1;33m\u001b[0m\u001b[1;33m\u001b[0m\u001b[0m\n\u001b[0m\u001b[0;32m    112\u001b[0m \u001b[1;33m\u001b[0m\u001b[0m\n\u001b[0;32m    113\u001b[0m         \u001b[1;31m# Construct address tuples\u001b[0m\u001b[1;33m\u001b[0m\u001b[1;33m\u001b[0m\u001b[0m\n",
      "\u001b[1;32mC:\\ProgramData\\Anaconda3\\lib\\site-packages\\pymongo\\srv_resolver.py\u001b[0m in \u001b[0;36m_resolve_uri\u001b[1;34m(self, encapsulate_errors)\u001b[0m\n\u001b[0;32m    103\u001b[0m                 \u001b[1;32mraise\u001b[0m\u001b[1;33m\u001b[0m\u001b[1;33m\u001b[0m\u001b[0m\n\u001b[0;32m    104\u001b[0m             \u001b[1;31m# Else, raise all errors as ConfigurationError.\u001b[0m\u001b[1;33m\u001b[0m\u001b[1;33m\u001b[0m\u001b[0m\n\u001b[1;32m--> 105\u001b[1;33m             \u001b[1;32mraise\u001b[0m \u001b[0mConfigurationError\u001b[0m\u001b[1;33m(\u001b[0m\u001b[0mstr\u001b[0m\u001b[1;33m(\u001b[0m\u001b[0mexc\u001b[0m\u001b[1;33m)\u001b[0m\u001b[1;33m)\u001b[0m \u001b[1;32mfrom\u001b[0m \u001b[1;32mNone\u001b[0m\u001b[1;33m\u001b[0m\u001b[1;33m\u001b[0m\u001b[0m\n\u001b[0m\u001b[0;32m    106\u001b[0m         \u001b[1;32mreturn\u001b[0m \u001b[0mresults\u001b[0m\u001b[1;33m\u001b[0m\u001b[1;33m\u001b[0m\u001b[0m\n\u001b[0;32m    107\u001b[0m \u001b[1;33m\u001b[0m\u001b[0m\n",
      "\u001b[1;31mConfigurationError\u001b[0m: The DNS response does not contain an answer to the question: _mongodb._tcp.kuliah.uohhxud.mongodb.net. IN SRV"
     ]
    }
   ],
   "source": [
    "import datetime                            # Imports datetime library\n",
    "\n",
    "import pymongo\n",
    "from pymongo import MongoClient\n",
    "\n",
    "user = 'alfalimbany'\n",
    "sandi = 'BangRaf454647'\n",
    "# uri (uniform resource identifier) defines the connection parameters\n",
    "\n",
    "uri = 'mongodb+srv://'+ user +':'+ sandi +'@kuliah.uohhxud.mongodb.net/?retryWrites=true&w=majority'\n",
    "# start client to connect to MongoDB server\n",
    "client = MongoClient(uri)"
   ]
  },
  {
   "cell_type": "code",
   "execution_count": null,
   "metadata": {
    "colab": {
     "base_uri": "https://localhost:8080/"
    },
    "executionInfo": {
     "elapsed": 342,
     "status": "ok",
     "timestamp": 1703818159993,
     "user": {
      "displayName": "",
      "userId": ""
     },
     "user_tz": -420
    },
    "id": "dr6XVjUlV8Ez",
    "outputId": "8d24dbf8-1b3c-4022-f0ef-ecfd4040a5db"
   },
   "outputs": [],
   "source": [
    "client.stats                                # .stats  show details about the client"
   ]
  },
  {
   "cell_type": "code",
   "execution_count": null,
   "metadata": {
    "id": "Hbk5nElsn45D"
   },
   "outputs": [],
   "source": [
    "App_store_db = client['App_store_db']\n",
    "\n",
    "info_collection = App_store_db['info_collection']\n",
    "\n",
    "comment_collection = App_store_db['comment_collection']"
   ]
  },
  {
   "cell_type": "code",
   "execution_count": null,
   "metadata": {
    "colab": {
     "base_uri": "https://localhost:8080/",
     "height": 112
    },
    "executionInfo": {
     "elapsed": 314,
     "status": "ok",
     "timestamp": 1703818286633,
     "user": {
      "displayName": "",
      "userId": ""
     },
     "user_tz": -420
    },
    "id": "e5CtvPgvSpLK",
    "outputId": "2aa063f7-5788-4553-b95c-f540b3cbacd5"
   },
   "outputs": [],
   "source": [
    "## Read in file containing app names and IDs\n",
    "app_df = pd.read_csv('/content/drive/MyDrive/Kuliah/RPL/scraper/AppStore/apps.csv')\n",
    "app_df.head()"
   ]
  },
  {
   "cell_type": "code",
   "execution_count": null,
   "metadata": {
    "id": "FVPO9reQSpLL"
   },
   "outputs": [],
   "source": [
    "## Get list of app names and app IDs\n",
    "app_names = list(app_df['iOS_app_name'])\n",
    "app_ids = list(app_df['iOS_app_id'])"
   ]
  },
  {
   "cell_type": "code",
   "execution_count": null,
   "metadata": {
    "colab": {
     "base_uri": "https://localhost:8080/"
    },
    "executionInfo": {
     "elapsed": 2964,
     "status": "ok",
     "timestamp": 1703818310043,
     "user": {
      "displayName": "",
      "userId": ""
     },
     "user_tz": -420
    },
    "id": "zrS8zP2ASpLL",
    "outputId": "31ea5604-ee56-43d2-9a96-561d6af0177b"
   },
   "outputs": [],
   "source": [
    "## Set up App Store Scraper\n",
    "scraper = AppStoreScraper()\n",
    "app_store_list = list(scraper.get_multiple_app_details(app_ids))\n",
    "\n",
    "## Pretty print the data for the first app\n",
    "pprint(app_store_list[0])"
   ]
  },
  {
   "cell_type": "code",
   "execution_count": null,
   "metadata": {
    "colab": {
     "base_uri": "https://localhost:8080/",
     "height": 266
    },
    "executionInfo": {
     "elapsed": 2121,
     "status": "ok",
     "timestamp": 1703818323026,
     "user": {
      "displayName": "",
      "userId": ""
     },
     "user_tz": -420
    },
    "id": "RynsWKpnSpLL",
    "outputId": "ec63d63c-43df-4599-bebc-249a7dd7b584"
   },
   "outputs": [],
   "source": [
    "## Convert list of dicts to Pandas DataFrame and write to csv\n",
    "app_info_df = pd.DataFrame(app_store_list)\n",
    "info_collection.insert_many(app_store_list) #MongoDB\n",
    "app_info_df.to_csv('/content/drive/MyDrive/Kuliah/RPL/scraper/AppStore/appsDetail.csv', index=False) #CSV\n",
    "app_info_df.head()"
   ]
  },
  {
   "cell_type": "code",
   "execution_count": null,
   "metadata": {
    "colab": {
     "base_uri": "https://localhost:8080/"
    },
    "executionInfo": {
     "elapsed": 37249,
     "status": "ok",
     "timestamp": 1703818389169,
     "user": {
      "displayName": "",
      "userId": ""
     },
     "user_tz": -420
    },
    "id": "BYzEORw2SpLM",
    "outputId": "67bfc6e6-676b-4884-f561-54e79a4207b1"
   },
   "outputs": [],
   "source": [
    "for app_name, app_id in zip(app_names, app_ids):\n",
    "\n",
    "    # Get start time\n",
    "    start = dt.datetime.now(tz=get_localzone())\n",
    "    fmt= \"%m/%d/%y - %T %p\"\n",
    "\n",
    "    # Print starting output for app\n",
    "    print('---'*20)\n",
    "    print('---'*20)\n",
    "    print(f'***** {app_name} started at {start.strftime(fmt)}')\n",
    "    print()\n",
    "\n",
    "    # Instantiate AppStore for app\n",
    "    app_ = AppStore(country='id', app_name=app_name, app_id=app_id)\n",
    "\n",
    "    # Scrape reviews posted since February 28, 2020 and limit to 10,000 reviews\n",
    "    app_.review(how_many=10000,\n",
    "                after=dt.datetime(2020, 2, 28),\n",
    "                sleep=random.randint(20,25))\n",
    "\n",
    "    reviews = app_.reviews\n",
    "\n",
    "    # Add keys to store information about which app each review is for\n",
    "    for rvw in reviews:\n",
    "        rvw['app_name'] = app_name\n",
    "        rvw['app_id'] = app_id\n",
    "\n",
    "    # Print update that scraping was completed\n",
    "    print(f\"\"\"Done scraping {app_name}.\n",
    "    Scraped a total of {app_.reviews_count} reviews.\\n\"\"\")\n",
    "\n",
    "    # Convert list of dicts to Pandas DataFrame and write to csv\n",
    "    output_path = '/content/drive/MyDrive/Kuliah/RPL/scraper/AppStore/' + app_name + '.csv'\n",
    "    #output_path = 'Var/AppStore/' + app_name + '.csv'\n",
    "    review_df = pd.DataFrame(reviews)\n",
    "    review_df.to_csv(output_path, mode='a', header=not os.path.exists(output_path))\n",
    "\n",
    "    #save into MongoDB\n",
    "    comment_collection.insert_many(reviews)\n",
    "\n",
    "    # Get end time\n",
    "    end = dt.datetime.now(tz=get_localzone())\n",
    "\n",
    "    # Print ending output for app\n",
    "    print(f\"\"\"Successfully wrote {app_name} reviews to csv\n",
    "    at {end.strftime(fmt)}.\\n\"\"\")\n",
    "    print(f'Time elapsed for {app_name}: {end-start}')\n",
    "    print('---'*20)\n",
    "    print('---'*20)\n",
    "    print('\\n')\n",
    "\n",
    "    # Wait 5 to 10 seconds to start scraping next app\n",
    "    time.sleep(random.randint(5,10))"
   ]
  }
 ],
 "metadata": {
  "colab": {
   "provenance": [
    {
     "file_id": "https://github.com/Bang-Raf/appstore-scraper/blob/main/scrapingAS.ipynb",
     "timestamp": 1703820371041
    }
   ]
  },
  "kernelspec": {
   "display_name": "Python 3 (ipykernel)",
   "language": "python",
   "name": "python3"
  },
  "language_info": {
   "codemirror_mode": {
    "name": "ipython",
    "version": 3
   },
   "file_extension": ".py",
   "mimetype": "text/x-python",
   "name": "python",
   "nbconvert_exporter": "python",
   "pygments_lexer": "ipython3",
   "version": "3.9.15"
  },
  "vscode": {
   "interpreter": {
    "hash": "2d681002bfa98c22e3a55bd09cef3381f6316e5c0f3421472a2863e693739461"
   }
  }
 },
 "nbformat": 4,
 "nbformat_minor": 1
}
