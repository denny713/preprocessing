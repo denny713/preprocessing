{
 "cells": [
  {
   "cell_type": "code",
   "execution_count": 13,
   "id": "5f3c7943-9bbb-4ed1-aeca-e4f39b296abb",
   "metadata": {},
   "outputs": [],
   "source": [
    "from selenium import webdriver\n",
    "from selenium.webdriver.support.ui import WebDriverWait\n",
    "from selenium.webdriver.support import expected_conditions as EC\n",
    "from selenium.common.exceptions import TimeoutException\n",
    "from selenium.webdriver.common.by import By\n",
    "from selenium.webdriver.common.keys import Keys\n",
    "from selenium.webdriver.common.action_chains import ActionChains\n",
    "\n",
    "from urllib.parse import quote\n",
    "import time"
   ]
  },
  {
   "cell_type": "code",
   "execution_count": 4,
   "id": "5699bb37-28a9-49bf-b50c-760b0f4e8e97",
   "metadata": {},
   "outputs": [
    {
     "ename": "NameError",
     "evalue": "name 'webdriver' is not defined",
     "output_type": "error",
     "traceback": [
      "\u001b[1;31m---------------------------------------------------------------------------\u001b[0m",
      "\u001b[1;31mNameError\u001b[0m                                 Traceback (most recent call last)",
      "\u001b[1;32m~\\AppData\\Local\\Temp\\ipykernel_28772\\2432057776.py\u001b[0m in \u001b[0;36m<module>\u001b[1;34m\u001b[0m\n\u001b[1;32m----> 1\u001b[1;33m \u001b[0mopt\u001b[0m \u001b[1;33m=\u001b[0m \u001b[0mwebdriver\u001b[0m\u001b[1;33m.\u001b[0m\u001b[0mChromeOptions\u001b[0m\u001b[1;33m(\u001b[0m\u001b[1;33m)\u001b[0m\u001b[1;33m\u001b[0m\u001b[1;33m\u001b[0m\u001b[0m\n\u001b[0m\u001b[0;32m      2\u001b[0m \u001b[0mopt\u001b[0m\u001b[1;33m.\u001b[0m\u001b[0madd_argument\u001b[0m\u001b[1;33m(\u001b[0m\u001b[1;34m'--no-sandbox'\u001b[0m\u001b[1;33m)\u001b[0m \u001b[1;31m#Disables the sandbox for all process types that are normally sandboxed. Meant to be used as a browser-level switch for testing purposes only.\u001b[0m\u001b[1;33m\u001b[0m\u001b[1;33m\u001b[0m\u001b[0m\n\u001b[0;32m      3\u001b[0m \u001b[1;31m# opt.add_argument('--headless') #Run in headless mode, i.e., without a UI or display server dependencies.\u001b[0m\u001b[1;33m\u001b[0m\u001b[1;33m\u001b[0m\u001b[0m\n\u001b[0;32m      4\u001b[0m \u001b[0mopt\u001b[0m\u001b[1;33m.\u001b[0m\u001b[0madd_argument\u001b[0m\u001b[1;33m(\u001b[0m\u001b[1;34m'--disable-notifications'\u001b[0m\u001b[1;33m)\u001b[0m\u001b[1;31m#Disables the Web Notification and the Push APIs.\u001b[0m\u001b[1;33m\u001b[0m\u001b[1;33m\u001b[0m\u001b[0m\n\u001b[0;32m      5\u001b[0m \u001b[0mopt\u001b[0m\u001b[1;33m.\u001b[0m\u001b[0madd_argument\u001b[0m\u001b[1;33m(\u001b[0m\u001b[1;34m'--disable-gpu'\u001b[0m\u001b[1;33m)\u001b[0m\u001b[1;33m\u001b[0m\u001b[1;33m\u001b[0m\u001b[0m\n",
      "\u001b[1;31mNameError\u001b[0m: name 'webdriver' is not defined"
     ]
    }
   ],
   "source": [
    "opt = webdriver.ChromeOptions()\n",
    "opt.add_argument('--no-sandbox') #Disables the sandbox for all process types that are normally sandboxed. Meant to be used as a browser-level switch for testing purposes only. \n",
    "# opt.add_argument('--headless') #Run in headless mode, i.e., without a UI or display server dependencies. \n",
    "opt.add_argument('--disable-notifications')#Disables the Web Notification and the Push APIs.\n",
    "opt.add_argument('--disable-gpu')\n",
    "opt.add_argument('--disable-3d-apis')  #Disables warning GPU stall\n",
    "\n",
    "driver = webdriver.Chrome(options=opt)#setting up webdriver and option\n"
   ]
  },
  {
   "cell_type": "code",
   "execution_count": 2,
   "id": "35c42cbe-754d-484f-920d-395d3fc2dd6d",
   "metadata": {},
   "outputs": [
    {
     "ename": "NameError",
     "evalue": "name 'quote' is not defined",
     "output_type": "error",
     "traceback": [
      "\u001b[1;31m---------------------------------------------------------------------------\u001b[0m",
      "\u001b[1;31mNameError\u001b[0m                                 Traceback (most recent call last)",
      "\u001b[1;32m~\\AppData\\Local\\Temp\\ipykernel_28772\\3690252369.py\u001b[0m in \u001b[0;36m<module>\u001b[1;34m\u001b[0m\n\u001b[0;32m      1\u001b[0m \u001b[0mjudul_buku\u001b[0m \u001b[1;33m=\u001b[0m \u001b[1;34m'daun'\u001b[0m\u001b[1;33m\u001b[0m\u001b[1;33m\u001b[0m\u001b[0m\n\u001b[1;32m----> 2\u001b[1;33m \u001b[0mjudul_buku\u001b[0m \u001b[1;33m=\u001b[0m \u001b[0mquote\u001b[0m\u001b[1;33m(\u001b[0m\u001b[0mjudul_buku\u001b[0m\u001b[1;33m)\u001b[0m\u001b[1;33m\u001b[0m\u001b[1;33m\u001b[0m\u001b[0m\n\u001b[0m\u001b[0;32m      3\u001b[0m \u001b[0murl\u001b[0m \u001b[1;33m=\u001b[0m \u001b[1;34m'https://www.goodreads.com/search?utf8=%E2%9C%93&search_type=books&q='\u001b[0m \u001b[1;33m+\u001b[0m \u001b[0mjudul_buku\u001b[0m\u001b[1;33m\u001b[0m\u001b[1;33m\u001b[0m\u001b[0m\n\u001b[0;32m      4\u001b[0m \u001b[0mcontent\u001b[0m \u001b[1;33m=\u001b[0m \u001b[0mdriver\u001b[0m\u001b[1;33m.\u001b[0m\u001b[0mget\u001b[0m\u001b[1;33m(\u001b[0m\u001b[0murl\u001b[0m\u001b[1;33m)\u001b[0m \u001b[1;31m#target website\u001b[0m\u001b[1;33m\u001b[0m\u001b[1;33m\u001b[0m\u001b[0m\n\u001b[0;32m      5\u001b[0m \u001b[1;33m\u001b[0m\u001b[0m\n",
      "\u001b[1;31mNameError\u001b[0m: name 'quote' is not defined"
     ]
    }
   ],
   "source": [
    "judul_buku = 'daun'\n",
    "judul_buku = quote(judul_buku)\n",
    "url = 'https://www.goodreads.com/search?utf8=%E2%9C%93&search_type=books&q=' + judul_buku\n",
    "content = driver.get(url) #target website\n",
    "\n",
    "last_height = driver.execute_script(\"return document.body.scrollHeight\")\n",
    "\n",
    "SCROLL_PAUSE_TIME = 5 #detik\n",
    "\n",
    "while True:\n",
    "    # Scroll down to bottom\n",
    "    # driver.execute_script(\"window.scrollTo(0, document.body.scrollHeight);\")\n",
    "    driver.execute_script(\"window.scrollBy(0, 800);\")\n",
    "    # Wait to load page\n",
    "    time.sleep(SCROLL_PAUSE_TIME)\n",
    "\n",
    "    # Calculate new scroll height and compare with last scroll height\n",
    "    new_height = driver.execute_script(\"return document.body.scrollHeight\")\n",
    "    if new_height == last_height:\n",
    "        break\n",
    "    last_height = new_height\n",
    "\n",
    "time.sleep(SCROLL_PAUSE_TIME)\n",
    "content_items = driver.find_elements(By.XPATH, \"//table[@class='tableList']\")\n",
    "\n",
    "if len(content_items)>0:\n",
    "    isi_tabel = content_items[0].get_attribute('innerHTML')\n",
    "    # print('isi tabel: ' + isi_tabel)\n",
    "    daftar_buku = content_items[0].find_elements(By.XPATH, \"//tr\")\n",
    "    if len(daftar_buku)>0:\n",
    "        buku_list = []\n",
    "        for buku in daftar_buku:\n",
    "            # detail_buku = buku.get_attribute('innerHTML')\n",
    "            # print(detail_buku)\n",
    "\n",
    "            link_buku = buku.find_elements(By.XPATH, \"//a[@class='bookTitle']\")\n",
    "            if len(link_buku)>0:\n",
    "                str_link_buku = link_buku[0].get_attribute('href')\n",
    "            else:\n",
    "                str_link_buku = ''\n",
    "\n",
    "            judul_buku = buku.find_elements(By.XPATH, \"//span[@itemprop='name']\")\n",
    "            if len(judul_buku)>0:\n",
    "                str_judul_buku = judul_buku[0].text\n",
    "            else:\n",
    "                str_judul_buku = ''\n",
    "\n",
    "            buku = {\n",
    "                \"judul\" : str_judul_buku,\n",
    "                \"link\" : str_link_buku\n",
    "            }\n",
    "\n",
    "            buku_list.append(buku)\n",
    "\n",
    "        print(str(buku_list))\n",
    "        \n",
    "driver.close()"
   ]
  },
  {
   "cell_type": "code",
   "execution_count": null,
   "id": "86752f32-2184-47fa-8949-fa489bc1ab62",
   "metadata": {},
   "outputs": [],
   "source": []
  },
  {
   "cell_type": "code",
   "execution_count": null,
   "id": "17678b97",
   "metadata": {},
   "outputs": [],
   "source": []
  }
 ],
 "metadata": {
  "kernelspec": {
   "display_name": "Python 3 (ipykernel)",
   "language": "python",
   "name": "python3"
  },
  "language_info": {
   "codemirror_mode": {
    "name": "ipython",
    "version": 3
   },
   "file_extension": ".py",
   "mimetype": "text/x-python",
   "name": "python",
   "nbconvert_exporter": "python",
   "pygments_lexer": "ipython3",
   "version": "3.9.15"
  }
 },
 "nbformat": 4,
 "nbformat_minor": 5
}
