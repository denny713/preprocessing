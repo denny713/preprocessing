{
 "cells": [
  {
   "cell_type": "code",
   "execution_count": 1,
   "metadata": {},
   "outputs": [],
   "source": [
    "import pandas as pd\n",
    "from selenium import webdriver\n",
    "from selenium.webdriver.chrome.service import Service as ChromeService\n",
    "from selenium.webdriver.chrome.options import Options\n",
    "from selenium.webdriver.support.ui import WebDriverWait\n",
    "from selenium.webdriver.support import expected_conditions as EC\n",
    "from selenium.webdriver.common.by import By\n",
    "from selenium.webdriver.common.keys import Keys\n",
    "from selenium.webdriver.common.action_chains import ActionChains\n",
    "#from webdriver_manager.chrome import ChromeDriverManager\n",
    "import time\n",
    "\n",
    "# other necessary ones\n",
    "import urllib.request\n",
    "from bs4 import BeautifulSoup as bs\n",
    "import json\n",
    "# import time\n",
    "import re\n",
    "import datetime"
   ]
  },
  {
   "cell_type": "code",
   "execution_count": 2,
   "metadata": {},
   "outputs": [],
   "source": [
    "# Create browser\n",
    "#browser = webdriver.Chrome('')\n",
    "#browser.maximize_window()\n",
    "\n",
    "chrome_options = webdriver.ChromeOptions()\n",
    "chrome_options.add_argument(\"--disable-notifications\")\n",
    "browser = webdriver.Chrome(options=chrome_options)\n",
    "browser.maximize_window()\n",
    "\n",
    "EMAIL = \"suka.enelpe@gmail.com\"\n",
    "PASSWORD = \"Sukanlp123.\"\n",
    "\n",
    "url = 'https://facebook.com'\n",
    "# browser.get(url, 'Chrome', options=option)\n",
    "browser.get(url)"
   ]
  },
  {
   "cell_type": "code",
   "execution_count": 3,
   "metadata": {},
   "outputs": [],
   "source": [
    "# Login to facebook.com\n",
    "wait = WebDriverWait(browser, 3600)\n",
    "email_field = wait.until(EC.visibility_of_element_located((By.NAME, 'email')))\n",
    "email_field.send_keys(EMAIL)\n",
    "pass_field = wait.until(EC.visibility_of_element_located((By.NAME, 'pass')))\n",
    "pass_field.send_keys(PASSWORD)\n",
    "pass_field.send_keys(Keys.RETURN)\n",
    "\n",
    "time.sleep(5)"
   ]
  },
  {
   "cell_type": "code",
   "execution_count": 4,
   "metadata": {},
   "outputs": [
    {
     "name": "stdout",
     "output_type": "stream",
     "text": [
      "Scraping selesai. Hasil disimpan dalam file JSON.\n"
     ]
    }
   ],
   "source": [
    "# Open facebook and scroll down\n",
    "browser.get(\n",
    "    \"https://www.facebook.com/Jokowi/posts/pfbid02jgR76SqznUiUj9SXTSFpS9756AdStUug1VPnbgguG5ALrMm3VeUzSjhRuyGRzr2il\")\n",
    "time.sleep(10)\n",
    "\n",
    "# Simpan hasil scrap dalam bentuk list\n",
    "scraped_data = []\n",
    "\n",
    "# Fungsi untuk menampilkan komentar ke konsol dengan XPath\n",
    "def display_comments():\n",
    "    try:\n",
    "        # Tunggu beberapa detik untuk memastikan halaman sudah dimuat sepenuhnya\n",
    "        time.sleep(5)\n",
    "        \n",
    "        # Loop untuk mengklik \"Lihat komentar lain\" beberapa kali\n",
    "        for _ in range(2):  # Ganti angka ini sesuai kebutuhan\n",
    "            # Temukan elemen \"Lihat komentar lain\" dan klik\n",
    "            view_more_comments_button = browser.find_element(By.XPATH, \"//span[@class='x193iq5w xeuugli x13faqbe x1vvkbs x1xmvt09 x1lliihq x1s928wv xhkezso x1gmr53x x1cpjm7i x1fgarty x1943h6x xudqn12 x3x7a5m x6prxxf xvq8zen x1s688f xi81zsa' and @dir='auto' and text()='Lihat komentar lain']\")\n",
    "            view_more_comments_button.click()\n",
    "            time.sleep(5)  # Tunggu beberapa detik setelah mengklik\n",
    "\n",
    "        # Temukan elemen-elemen yang berisi komentar dengan XPath\n",
    "        comments = browser.find_elements(By.XPATH, \"//div[@class='x1y1aw1k xn6708d xwib8y2 x1ye3gou']\")\n",
    "\n",
    "        # Loop melalui elemen-elemen komentar dan tambahkan ke list\n",
    "        for comment in comments:\n",
    "            # Ambil teks komentar\n",
    "            comment_text = comment.find_element(By.XPATH, \".//div[@dir='auto' and @style='text-align: start;']\").text\n",
    "           \n",
    "            # Tambahkan data ke list\n",
    "            scraped_data.append({\"comment\": comment_text})\n",
    "\n",
    "        # Simpan list dalam file JSON\n",
    "        with open(r\"C:\\Users\\tsaqi\\Documents\\Scraper\\Fardan\\Tugas Scrapper KCI Sosmed\\hasil_scrap_FB.json\", \"w\", encoding=\"utf-8\") as json_file:\n",
    "            json.dump(scraped_data, json_file, ensure_ascii=False, indent=4)\n",
    "        \n",
    "        print(\"Scraping selesai. Hasil disimpan dalam file JSON.\")\n",
    "        \n",
    "    except Exception as e:\n",
    "        print(f\"An error occurred: {e}\")\n",
    "\n",
    "# Panggil fungsi\n",
    "display_comments()\n"
   ]
  },
  {
   "cell_type": "code",
   "execution_count": 5,
   "metadata": {
    "scrolled": true
   },
   "outputs": [],
   "source": [
    "import pymongo\n",
    "from pymongo import MongoClient\n",
    "import certifi\n",
    "\n",
    "ca = certifi.where()\n",
    "\n",
    "user = 'scraper-sosmed'\n",
    "sandi = '0354527581'\n",
    "# uri (uniform resource identifier) defines the connection parameters\n",
    "\n",
    "uri = 'mongodb+srv://'+ user +':'+ sandi +'@scraper.ychmtel.mongodb.net/?retryWrites=true&w=majority'\n",
    "# start client to connect to MongoDB server\n",
    "client = MongoClient(uri, tlsCAFile=ca)"
   ]
  },
  {
   "cell_type": "code",
   "execution_count": 6,
   "metadata": {},
   "outputs": [
    {
     "data": {
      "text/plain": [
       "Database(MongoClient(host=['ac-khqtipt-shard-00-00.ychmtel.mongodb.net:27017', 'ac-khqtipt-shard-00-01.ychmtel.mongodb.net:27017', 'ac-khqtipt-shard-00-02.ychmtel.mongodb.net:27017'], document_class=dict, tz_aware=False, connect=True, retrywrites=True, w='majority', authsource='admin', replicaset='atlas-dw8xth-shard-0', tls=True, tlscafile='C:\\\\ProgramData\\\\Anaconda3\\\\lib\\\\site-packages\\\\certifi\\\\cacert.pem'), 'stats')"
      ]
     },
     "execution_count": 6,
     "metadata": {},
     "output_type": "execute_result"
    }
   ],
   "source": [
    "client.stats "
   ]
  },
  {
   "cell_type": "code",
   "execution_count": 7,
   "metadata": {},
   "outputs": [
    {
     "data": {
      "text/plain": [
       "InsertManyResult([ObjectId('65e5559db97a7b21deeec324'), ObjectId('65e5559db97a7b21deeec325'), ObjectId('65e5559db97a7b21deeec326'), ObjectId('65e5559db97a7b21deeec327'), ObjectId('65e5559db97a7b21deeec328'), ObjectId('65e5559db97a7b21deeec329'), ObjectId('65e5559db97a7b21deeec32a'), ObjectId('65e5559db97a7b21deeec32b'), ObjectId('65e5559db97a7b21deeec32c'), ObjectId('65e5559db97a7b21deeec32d'), ObjectId('65e5559db97a7b21deeec32e'), ObjectId('65e5559db97a7b21deeec32f'), ObjectId('65e5559db97a7b21deeec330'), ObjectId('65e5559db97a7b21deeec331'), ObjectId('65e5559db97a7b21deeec332'), ObjectId('65e5559db97a7b21deeec333'), ObjectId('65e5559db97a7b21deeec334'), ObjectId('65e5559db97a7b21deeec335'), ObjectId('65e5559db97a7b21deeec336'), ObjectId('65e5559db97a7b21deeec337'), ObjectId('65e5559db97a7b21deeec338'), ObjectId('65e5559db97a7b21deeec339'), ObjectId('65e5559db97a7b21deeec33a'), ObjectId('65e5559db97a7b21deeec33b'), ObjectId('65e5559db97a7b21deeec33c'), ObjectId('65e5559db97a7b21deeec33d'), ObjectId('65e5559db97a7b21deeec33e'), ObjectId('65e5559db97a7b21deeec33f'), ObjectId('65e5559db97a7b21deeec340'), ObjectId('65e5559db97a7b21deeec341'), ObjectId('65e5559db97a7b21deeec342'), ObjectId('65e5559db97a7b21deeec343'), ObjectId('65e5559db97a7b21deeec344'), ObjectId('65e5559db97a7b21deeec345'), ObjectId('65e5559db97a7b21deeec346'), ObjectId('65e5559db97a7b21deeec347'), ObjectId('65e5559db97a7b21deeec348'), ObjectId('65e5559db97a7b21deeec349'), ObjectId('65e5559db97a7b21deeec34a'), ObjectId('65e5559db97a7b21deeec34b'), ObjectId('65e5559db97a7b21deeec34c'), ObjectId('65e5559db97a7b21deeec34d'), ObjectId('65e5559db97a7b21deeec34e'), ObjectId('65e5559db97a7b21deeec34f'), ObjectId('65e5559db97a7b21deeec350'), ObjectId('65e5559db97a7b21deeec351'), ObjectId('65e5559db97a7b21deeec352'), ObjectId('65e5559db97a7b21deeec353'), ObjectId('65e5559db97a7b21deeec354'), ObjectId('65e5559db97a7b21deeec355'), ObjectId('65e5559db97a7b21deeec356'), ObjectId('65e5559db97a7b21deeec357'), ObjectId('65e5559db97a7b21deeec358'), ObjectId('65e5559db97a7b21deeec359'), ObjectId('65e5559db97a7b21deeec35a'), ObjectId('65e5559db97a7b21deeec35b'), ObjectId('65e5559db97a7b21deeec35c'), ObjectId('65e5559db97a7b21deeec35d'), ObjectId('65e5559db97a7b21deeec35e'), ObjectId('65e5559db97a7b21deeec35f'), ObjectId('65e5559db97a7b21deeec360'), ObjectId('65e5559db97a7b21deeec361'), ObjectId('65e5559db97a7b21deeec362'), ObjectId('65e5559db97a7b21deeec363'), ObjectId('65e5559db97a7b21deeec364'), ObjectId('65e5559db97a7b21deeec365'), ObjectId('65e5559db97a7b21deeec366'), ObjectId('65e5559db97a7b21deeec367'), ObjectId('65e5559db97a7b21deeec368'), ObjectId('65e5559db97a7b21deeec369'), ObjectId('65e5559db97a7b21deeec36a'), ObjectId('65e5559db97a7b21deeec36b'), ObjectId('65e5559db97a7b21deeec36c'), ObjectId('65e5559db97a7b21deeec36d'), ObjectId('65e5559db97a7b21deeec36e'), ObjectId('65e5559db97a7b21deeec36f'), ObjectId('65e5559db97a7b21deeec370'), ObjectId('65e5559db97a7b21deeec371'), ObjectId('65e5559db97a7b21deeec372'), ObjectId('65e5559db97a7b21deeec373'), ObjectId('65e5559db97a7b21deeec374'), ObjectId('65e5559db97a7b21deeec375'), ObjectId('65e5559db97a7b21deeec376'), ObjectId('65e5559db97a7b21deeec377'), ObjectId('65e5559db97a7b21deeec378'), ObjectId('65e5559db97a7b21deeec379'), ObjectId('65e5559db97a7b21deeec37a'), ObjectId('65e5559db97a7b21deeec37b'), ObjectId('65e5559db97a7b21deeec37c'), ObjectId('65e5559db97a7b21deeec37d'), ObjectId('65e5559db97a7b21deeec37e'), ObjectId('65e5559db97a7b21deeec37f'), ObjectId('65e5559db97a7b21deeec380'), ObjectId('65e5559db97a7b21deeec381'), ObjectId('65e5559db97a7b21deeec382'), ObjectId('65e5559db97a7b21deeec383'), ObjectId('65e5559db97a7b21deeec384'), ObjectId('65e5559db97a7b21deeec385'), ObjectId('65e5559db97a7b21deeec386'), ObjectId('65e5559db97a7b21deeec387'), ObjectId('65e5559db97a7b21deeec388'), ObjectId('65e5559db97a7b21deeec389'), ObjectId('65e5559db97a7b21deeec38a'), ObjectId('65e5559db97a7b21deeec38b'), ObjectId('65e5559db97a7b21deeec38c'), ObjectId('65e5559db97a7b21deeec38d'), ObjectId('65e5559db97a7b21deeec38e'), ObjectId('65e5559db97a7b21deeec38f'), ObjectId('65e5559db97a7b21deeec390'), ObjectId('65e5559db97a7b21deeec391'), ObjectId('65e5559db97a7b21deeec392'), ObjectId('65e5559db97a7b21deeec393'), ObjectId('65e5559db97a7b21deeec394'), ObjectId('65e5559db97a7b21deeec395'), ObjectId('65e5559db97a7b21deeec396'), ObjectId('65e5559db97a7b21deeec397'), ObjectId('65e5559db97a7b21deeec398'), ObjectId('65e5559db97a7b21deeec399'), ObjectId('65e5559db97a7b21deeec39a'), ObjectId('65e5559db97a7b21deeec39b'), ObjectId('65e5559db97a7b21deeec39c'), ObjectId('65e5559db97a7b21deeec39d'), ObjectId('65e5559db97a7b21deeec39e'), ObjectId('65e5559db97a7b21deeec39f'), ObjectId('65e5559db97a7b21deeec3a0'), ObjectId('65e5559db97a7b21deeec3a1'), ObjectId('65e5559db97a7b21deeec3a2'), ObjectId('65e5559db97a7b21deeec3a3'), ObjectId('65e5559db97a7b21deeec3a4'), ObjectId('65e5559db97a7b21deeec3a5'), ObjectId('65e5559db97a7b21deeec3a6'), ObjectId('65e5559db97a7b21deeec3a7'), ObjectId('65e5559db97a7b21deeec3a8'), ObjectId('65e5559db97a7b21deeec3a9'), ObjectId('65e5559db97a7b21deeec3aa'), ObjectId('65e5559db97a7b21deeec3ab'), ObjectId('65e5559db97a7b21deeec3ac'), ObjectId('65e5559db97a7b21deeec3ad'), ObjectId('65e5559db97a7b21deeec3ae'), ObjectId('65e5559db97a7b21deeec3af'), ObjectId('65e5559db97a7b21deeec3b0'), ObjectId('65e5559db97a7b21deeec3b1'), ObjectId('65e5559db97a7b21deeec3b2'), ObjectId('65e5559db97a7b21deeec3b3'), ObjectId('65e5559db97a7b21deeec3b4'), ObjectId('65e5559db97a7b21deeec3b5'), ObjectId('65e5559db97a7b21deeec3b6'), ObjectId('65e5559db97a7b21deeec3b7'), ObjectId('65e5559db97a7b21deeec3b8'), ObjectId('65e5559db97a7b21deeec3b9')], acknowledged=True)"
      ]
     },
     "execution_count": 7,
     "metadata": {},
     "output_type": "execute_result"
    }
   ],
   "source": [
    "facebook_comments_db = client['facebook_comments_db']\n",
    "comments_collection = facebook_comments_db['comments_collection']\n",
    "comments_collection.insert_many(scraped_data)"
   ]
  },
  {
   "cell_type": "code",
   "execution_count": null,
   "metadata": {},
   "outputs": [],
   "source": []
  }
 ],
 "metadata": {
  "kernelspec": {
   "display_name": "Python 3 (ipykernel)",
   "language": "python",
   "name": "python3"
  },
  "language_info": {
   "codemirror_mode": {
    "name": "ipython",
    "version": 3
   },
   "file_extension": ".py",
   "mimetype": "text/x-python",
   "name": "python",
   "nbconvert_exporter": "python",
   "pygments_lexer": "ipython3",
   "version": "3.9.15"
  }
 },
 "nbformat": 4,
 "nbformat_minor": 2
}
