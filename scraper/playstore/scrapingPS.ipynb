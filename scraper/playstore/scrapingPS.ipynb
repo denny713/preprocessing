{
 "cells": [
  {
   "cell_type": "code",
   "execution_count": 1,
   "metadata": {
    "colab": {
     "base_uri": "https://localhost:8080/"
    },
    "executionInfo": {
     "elapsed": 11370,
     "status": "ok",
     "timestamp": 1703818531019,
     "user": {
      "displayName": "",
      "userId": ""
     },
     "user_tz": -420
    },
    "id": "XcbIEjDsXMvS",
    "outputId": "9580253b-33d3-4297-8a93-009a626bea48"
   },
   "outputs": [
    {
     "name": "stdout",
     "output_type": "stream",
     "text": [
      "Requirement already satisfied: pymongo[srv] in c:\\programdata\\anaconda3\\lib\\site-packages (4.6.2)\n",
      "Requirement already satisfied: dnspython<3.0.0,>=1.16.0 in c:\\programdata\\anaconda3\\lib\\site-packages (from pymongo[srv]) (2.6.1)\n",
      "Collecting google-play-scraper\n",
      "  Downloading google_play_scraper-1.2.6-py3-none-any.whl (28 kB)\n",
      "Installing collected packages: google-play-scraper\n",
      "Successfully installed google-play-scraper-1.2.6\n"
     ]
    }
   ],
   "source": [
    "!pip install pymongo[srv]\n",
    "!pip install google-play-scraper"
   ]
  },
  {
   "cell_type": "code",
   "execution_count": 2,
   "metadata": {
    "id": "NvdpQpPjaCD5"
   },
   "outputs": [],
   "source": [
    "import pandas as pd\n",
    "\n",
    "from google_play_scraper import app, Sort, reviews\n",
    "\n",
    "from pprint import pprint\n",
    "\n",
    "import pymongo\n",
    "from pymongo import MongoClient\n",
    "\n",
    "import datetime as dt\n",
    "from tzlocal import get_localzone\n",
    "\n",
    "import random\n",
    "import time\n",
    "\n",
    "import os"
   ]
  },
  {
   "cell_type": "code",
   "execution_count": 3,
   "metadata": {
    "colab": {
     "base_uri": "https://localhost:8080/"
    },
    "executionInfo": {
     "elapsed": 2633,
     "status": "ok",
     "timestamp": 1703818540543,
     "user": {
      "displayName": "",
      "userId": ""
     },
     "user_tz": -420
    },
    "id": "63MgR-KrbkYH",
    "outputId": "909b089d-d720-4182-af28-ae2e124671e7"
   },
   "outputs": [],
   "source": [
    "# from google.colab import drive\n",
    "# drive.mount('/content/drive')"
   ]
  },
  {
   "cell_type": "code",
   "execution_count": 4,
   "metadata": {
    "id": "rADCdJ6gWo4H"
   },
   "outputs": [
    {
     "ename": "ConfigurationError",
     "evalue": "The DNS response does not contain an answer to the question: _mongodb._tcp.kuliah.uohhxud.mongodb.net. IN SRV",
     "output_type": "error",
     "traceback": [
      "\u001b[1;31m---------------------------------------------------------------------------\u001b[0m",
      "\u001b[1;31mConfigurationError\u001b[0m                        Traceback (most recent call last)",
      "\u001b[1;32m~\\AppData\\Local\\Temp\\ipykernel_27392\\4089146627.py\u001b[0m in \u001b[0;36m<module>\u001b[1;34m\u001b[0m\n\u001b[0;32m     10\u001b[0m \u001b[0muri\u001b[0m \u001b[1;33m=\u001b[0m \u001b[1;34m'mongodb+srv://'\u001b[0m\u001b[1;33m+\u001b[0m \u001b[0muser\u001b[0m \u001b[1;33m+\u001b[0m\u001b[1;34m':'\u001b[0m\u001b[1;33m+\u001b[0m \u001b[0msandi\u001b[0m \u001b[1;33m+\u001b[0m\u001b[1;34m'@kuliah.uohhxud.mongodb.net/?retryWrites=true&w=majority'\u001b[0m\u001b[1;33m\u001b[0m\u001b[1;33m\u001b[0m\u001b[0m\n\u001b[0;32m     11\u001b[0m \u001b[1;31m# start client to connect to MongoDB server\u001b[0m\u001b[1;33m\u001b[0m\u001b[1;33m\u001b[0m\u001b[0m\n\u001b[1;32m---> 12\u001b[1;33m \u001b[0mclient\u001b[0m \u001b[1;33m=\u001b[0m \u001b[0mMongoClient\u001b[0m\u001b[1;33m(\u001b[0m\u001b[0muri\u001b[0m\u001b[1;33m)\u001b[0m\u001b[1;33m\u001b[0m\u001b[1;33m\u001b[0m\u001b[0m\n\u001b[0m",
      "\u001b[1;32mC:\\ProgramData\\Anaconda3\\lib\\site-packages\\pymongo\\mongo_client.py\u001b[0m in \u001b[0;36m__init__\u001b[1;34m(self, host, port, document_class, tz_aware, connect, type_registry, **kwargs)\u001b[0m\n\u001b[0;32m    769\u001b[0m                         \u001b[0mkeyword_opts\u001b[0m\u001b[1;33m.\u001b[0m\u001b[0mcased_key\u001b[0m\u001b[1;33m(\u001b[0m\u001b[1;34m\"connecttimeoutms\"\u001b[0m\u001b[1;33m)\u001b[0m\u001b[1;33m,\u001b[0m \u001b[0mtimeout\u001b[0m\u001b[1;33m\u001b[0m\u001b[1;33m\u001b[0m\u001b[0m\n\u001b[0;32m    770\u001b[0m                     )\n\u001b[1;32m--> 771\u001b[1;33m                 res = uri_parser.parse_uri(\n\u001b[0m\u001b[0;32m    772\u001b[0m                     \u001b[0mentity\u001b[0m\u001b[1;33m,\u001b[0m\u001b[1;33m\u001b[0m\u001b[1;33m\u001b[0m\u001b[0m\n\u001b[0;32m    773\u001b[0m                     \u001b[0mport\u001b[0m\u001b[1;33m,\u001b[0m\u001b[1;33m\u001b[0m\u001b[1;33m\u001b[0m\u001b[0m\n",
      "\u001b[1;32mC:\\ProgramData\\Anaconda3\\lib\\site-packages\\pymongo\\uri_parser.py\u001b[0m in \u001b[0;36mparse_uri\u001b[1;34m(uri, default_port, validate, warn, normalize, connect_timeout, srv_service_name, srv_max_hosts)\u001b[0m\n\u001b[0;32m    556\u001b[0m         \u001b[0mconnect_timeout\u001b[0m \u001b[1;33m=\u001b[0m \u001b[0mconnect_timeout\u001b[0m \u001b[1;32mor\u001b[0m \u001b[0moptions\u001b[0m\u001b[1;33m.\u001b[0m\u001b[0mget\u001b[0m\u001b[1;33m(\u001b[0m\u001b[1;34m\"connectTimeoutMS\"\u001b[0m\u001b[1;33m)\u001b[0m\u001b[1;33m\u001b[0m\u001b[1;33m\u001b[0m\u001b[0m\n\u001b[0;32m    557\u001b[0m         \u001b[0mdns_resolver\u001b[0m \u001b[1;33m=\u001b[0m \u001b[0m_SrvResolver\u001b[0m\u001b[1;33m(\u001b[0m\u001b[0mfqdn\u001b[0m\u001b[1;33m,\u001b[0m \u001b[0mconnect_timeout\u001b[0m\u001b[1;33m,\u001b[0m \u001b[0msrv_service_name\u001b[0m\u001b[1;33m,\u001b[0m \u001b[0msrv_max_hosts\u001b[0m\u001b[1;33m)\u001b[0m\u001b[1;33m\u001b[0m\u001b[1;33m\u001b[0m\u001b[0m\n\u001b[1;32m--> 558\u001b[1;33m         \u001b[0mnodes\u001b[0m \u001b[1;33m=\u001b[0m \u001b[0mdns_resolver\u001b[0m\u001b[1;33m.\u001b[0m\u001b[0mget_hosts\u001b[0m\u001b[1;33m(\u001b[0m\u001b[1;33m)\u001b[0m\u001b[1;33m\u001b[0m\u001b[1;33m\u001b[0m\u001b[0m\n\u001b[0m\u001b[0;32m    559\u001b[0m         \u001b[0mdns_options\u001b[0m \u001b[1;33m=\u001b[0m \u001b[0mdns_resolver\u001b[0m\u001b[1;33m.\u001b[0m\u001b[0mget_options\u001b[0m\u001b[1;33m(\u001b[0m\u001b[1;33m)\u001b[0m\u001b[1;33m\u001b[0m\u001b[1;33m\u001b[0m\u001b[0m\n\u001b[0;32m    560\u001b[0m         \u001b[1;32mif\u001b[0m \u001b[0mdns_options\u001b[0m\u001b[1;33m:\u001b[0m\u001b[1;33m\u001b[0m\u001b[1;33m\u001b[0m\u001b[0m\n",
      "\u001b[1;32mC:\\ProgramData\\Anaconda3\\lib\\site-packages\\pymongo\\srv_resolver.py\u001b[0m in \u001b[0;36mget_hosts\u001b[1;34m(self)\u001b[0m\n\u001b[0;32m    129\u001b[0m \u001b[1;33m\u001b[0m\u001b[0m\n\u001b[0;32m    130\u001b[0m     \u001b[1;32mdef\u001b[0m \u001b[0mget_hosts\u001b[0m\u001b[1;33m(\u001b[0m\u001b[0mself\u001b[0m\u001b[1;33m)\u001b[0m \u001b[1;33m->\u001b[0m \u001b[0mlist\u001b[0m\u001b[1;33m[\u001b[0m\u001b[0mtuple\u001b[0m\u001b[1;33m[\u001b[0m\u001b[0mstr\u001b[0m\u001b[1;33m,\u001b[0m \u001b[0mAny\u001b[0m\u001b[1;33m]\u001b[0m\u001b[1;33m]\u001b[0m\u001b[1;33m:\u001b[0m\u001b[1;33m\u001b[0m\u001b[1;33m\u001b[0m\u001b[0m\n\u001b[1;32m--> 131\u001b[1;33m         \u001b[0m_\u001b[0m\u001b[1;33m,\u001b[0m \u001b[0mnodes\u001b[0m \u001b[1;33m=\u001b[0m \u001b[0mself\u001b[0m\u001b[1;33m.\u001b[0m\u001b[0m_get_srv_response_and_hosts\u001b[0m\u001b[1;33m(\u001b[0m\u001b[1;32mTrue\u001b[0m\u001b[1;33m)\u001b[0m\u001b[1;33m\u001b[0m\u001b[1;33m\u001b[0m\u001b[0m\n\u001b[0m\u001b[0;32m    132\u001b[0m         \u001b[1;32mreturn\u001b[0m \u001b[0mnodes\u001b[0m\u001b[1;33m\u001b[0m\u001b[1;33m\u001b[0m\u001b[0m\n\u001b[0;32m    133\u001b[0m \u001b[1;33m\u001b[0m\u001b[0m\n",
      "\u001b[1;32mC:\\ProgramData\\Anaconda3\\lib\\site-packages\\pymongo\\srv_resolver.py\u001b[0m in \u001b[0;36m_get_srv_response_and_hosts\u001b[1;34m(self, encapsulate_errors)\u001b[0m\n\u001b[0;32m    109\u001b[0m         \u001b[0mself\u001b[0m\u001b[1;33m,\u001b[0m \u001b[0mencapsulate_errors\u001b[0m\u001b[1;33m:\u001b[0m \u001b[0mbool\u001b[0m\u001b[1;33m\u001b[0m\u001b[1;33m\u001b[0m\u001b[0m\n\u001b[0;32m    110\u001b[0m     ) -> tuple[resolver.Answer, list[tuple[str, Any]]]:\n\u001b[1;32m--> 111\u001b[1;33m         \u001b[0mresults\u001b[0m \u001b[1;33m=\u001b[0m \u001b[0mself\u001b[0m\u001b[1;33m.\u001b[0m\u001b[0m_resolve_uri\u001b[0m\u001b[1;33m(\u001b[0m\u001b[0mencapsulate_errors\u001b[0m\u001b[1;33m)\u001b[0m\u001b[1;33m\u001b[0m\u001b[1;33m\u001b[0m\u001b[0m\n\u001b[0m\u001b[0;32m    112\u001b[0m \u001b[1;33m\u001b[0m\u001b[0m\n\u001b[0;32m    113\u001b[0m         \u001b[1;31m# Construct address tuples\u001b[0m\u001b[1;33m\u001b[0m\u001b[1;33m\u001b[0m\u001b[0m\n",
      "\u001b[1;32mC:\\ProgramData\\Anaconda3\\lib\\site-packages\\pymongo\\srv_resolver.py\u001b[0m in \u001b[0;36m_resolve_uri\u001b[1;34m(self, encapsulate_errors)\u001b[0m\n\u001b[0;32m    103\u001b[0m                 \u001b[1;32mraise\u001b[0m\u001b[1;33m\u001b[0m\u001b[1;33m\u001b[0m\u001b[0m\n\u001b[0;32m    104\u001b[0m             \u001b[1;31m# Else, raise all errors as ConfigurationError.\u001b[0m\u001b[1;33m\u001b[0m\u001b[1;33m\u001b[0m\u001b[0m\n\u001b[1;32m--> 105\u001b[1;33m             \u001b[1;32mraise\u001b[0m \u001b[0mConfigurationError\u001b[0m\u001b[1;33m(\u001b[0m\u001b[0mstr\u001b[0m\u001b[1;33m(\u001b[0m\u001b[0mexc\u001b[0m\u001b[1;33m)\u001b[0m\u001b[1;33m)\u001b[0m \u001b[1;32mfrom\u001b[0m \u001b[1;32mNone\u001b[0m\u001b[1;33m\u001b[0m\u001b[1;33m\u001b[0m\u001b[0m\n\u001b[0m\u001b[0;32m    106\u001b[0m         \u001b[1;32mreturn\u001b[0m \u001b[0mresults\u001b[0m\u001b[1;33m\u001b[0m\u001b[1;33m\u001b[0m\u001b[0m\n\u001b[0;32m    107\u001b[0m \u001b[1;33m\u001b[0m\u001b[0m\n",
      "\u001b[1;31mConfigurationError\u001b[0m: The DNS response does not contain an answer to the question: _mongodb._tcp.kuliah.uohhxud.mongodb.net. IN SRV"
     ]
    }
   ],
   "source": [
    "import datetime                            # Imports datetime library\n",
    "\n",
    "import pymongo\n",
    "from pymongo import MongoClient\n",
    "\n",
    "user = 'alfalimbany'\n",
    "sandi = 'BangRaf454647'\n",
    "# uri (uniform resource identifier) defines the connection parameters\n",
    "\n",
    "uri = 'mongodb+srv://'+ user +':'+ sandi +'@kuliah.uohhxud.mongodb.net/?retryWrites=true&w=majority'\n",
    "# start client to connect to MongoDB server\n",
    "client = MongoClient(uri)"
   ]
  },
  {
   "cell_type": "code",
   "execution_count": null,
   "metadata": {
    "id": "Hbk5nElsn45D"
   },
   "outputs": [],
   "source": [
    "Play_store_db = client['Play_store_db']\n",
    "\n",
    "info_collection = Play_store_db['info_collection']\n",
    "\n",
    "comment_collection = Play_store_db['comment_collection']"
   ]
  },
  {
   "cell_type": "code",
   "execution_count": null,
   "metadata": {
    "colab": {
     "base_uri": "https://localhost:8080/"
    },
    "executionInfo": {
     "elapsed": 291,
     "status": "ok",
     "timestamp": 1703818578628,
     "user": {
      "displayName": "",
      "userId": ""
     },
     "user_tz": -420
    },
    "id": "dr6XVjUlV8Ez",
    "outputId": "35103381-3fc0-4c8c-a569-55f1087c82c9"
   },
   "outputs": [],
   "source": [
    "client.stats                                # .stats  show details about the client"
   ]
  },
  {
   "cell_type": "code",
   "execution_count": null,
   "metadata": {
    "id": "3rJTtk8O0GiC"
   },
   "outputs": [],
   "source": [
    "# app_df = pd.read_csv('Var/PlayStore/ScrapApp.csv.csv')\n",
    "# app_df.head()\n",
    "app_name = []\n",
    "android_appID = []"
   ]
  },
  {
   "cell_type": "code",
   "execution_count": null,
   "metadata": {
    "id": "mjJjc3wyZl0D"
   },
   "outputs": [],
   "source": [
    "['SpongeBob Adventures In A Jam', 'SpongeBob Cooking Fever']\n",
    "['com.tiltingpoint.sbadventures', 'com.tiltingpoint.spongebob']"
   ]
  },
  {
   "cell_type": "code",
   "execution_count": null,
   "metadata": {
    "colab": {
     "base_uri": "https://localhost:8080/"
    },
    "executionInfo": {
     "elapsed": 38960,
     "status": "ok",
     "timestamp": 1703818655137,
     "user": {
      "displayName": "",
      "userId": ""
     },
     "user_tz": -420
    },
    "id": "f3lL1999Syc2",
    "outputId": "bcff754f-f0e4-4977-dc4f-051cb4d42763"
   },
   "outputs": [],
   "source": [
    "# number of apps as input\n",
    "n = int(input(\"Enter number of apps : \"))\n",
    "\n",
    "# iterating till the range\n",
    "for i in range(0, n):\n",
    "    appName = input(\"Enter App Name: \")\n",
    "    appID = input(\"Enter App ID: \")\n",
    "    # adding the appName and appID\n",
    "    app_name.append(appName)\n",
    "    android_appID.append(appID)\n",
    "\n",
    "print(app_name)\n",
    "print(android_appID)"
   ]
  },
  {
   "cell_type": "code",
   "execution_count": null,
   "metadata": {
    "id": "fW6ipVmAoNh2"
   },
   "outputs": [],
   "source": [
    "app_names = list(app_name)\n",
    "app_ids = list(android_appID)"
   ]
  },
  {
   "cell_type": "code",
   "execution_count": null,
   "metadata": {
    "colab": {
     "base_uri": "https://localhost:8080/"
    },
    "executionInfo": {
     "elapsed": 782,
     "status": "ok",
     "timestamp": 1703818674944,
     "user": {
      "displayName": "",
      "userId": ""
     },
     "user_tz": -420
    },
    "id": "knKqYiqdoSI1",
    "outputId": "9461c56f-7277-403e-d0e2-03cb29d7a96e"
   },
   "outputs": [],
   "source": [
    "app_info = []\n",
    "for i in app_ids:\n",
    "    info = app(i)\n",
    "    del info['comments']\n",
    "    app_info.append(info)\n",
    "\n",
    "pprint(app_info[0])"
   ]
  },
  {
   "cell_type": "code",
   "execution_count": null,
   "metadata": {
    "colab": {
     "base_uri": "https://localhost:8080/"
    },
    "executionInfo": {
     "elapsed": 1769,
     "status": "ok",
     "timestamp": 1703818691492,
     "user": {
      "displayName": "",
      "userId": ""
     },
     "user_tz": -420
    },
    "id": "bhDSEfSwoT7F",
    "outputId": "a1b96836-02bc-404c-b2bf-107595e5eaec"
   },
   "outputs": [],
   "source": [
    "info_collection.insert_many(app_info)"
   ]
  },
  {
   "cell_type": "code",
   "execution_count": null,
   "metadata": {
    "colab": {
     "base_uri": "https://localhost:8080/",
     "height": 606
    },
    "executionInfo": {
     "elapsed": 990,
     "status": "ok",
     "timestamp": 1703818696049,
     "user": {
      "displayName": "",
      "userId": ""
     },
     "user_tz": -420
    },
    "id": "0zBjhYczocew",
    "outputId": "ab0e4dd6-0f61-4e70-a6a2-0088d622d527"
   },
   "outputs": [],
   "source": [
    "info_df = pd.DataFrame(list(info_collection.find({})))\n",
    "info_df.head()"
   ]
  },
  {
   "cell_type": "code",
   "execution_count": null,
   "metadata": {
    "colab": {
     "base_uri": "https://localhost:8080/"
    },
    "executionInfo": {
     "elapsed": 643870,
     "status": "ok",
     "timestamp": 1703818241664,
     "user": {
      "displayName": "",
      "userId": ""
     },
     "user_tz": -420
    },
    "id": "XNGNCtj6Syc3",
    "outputId": "d5cce225-1f70-4f2d-bb57-dcfb867942e5"
   },
   "outputs": [],
   "source": [
    "for app_name, app_id in zip(app_names, app_ids):\n",
    "\n",
    "    start = dt.datetime.now(tz=get_localzone())\n",
    "    fmt= \"%m/%d/%y - %T %p\"\n",
    "\n",
    "    print('---'*20)\n",
    "    print('---'*20)\n",
    "    print(f'***** {app_name} started at {start.strftime(fmt)}')\n",
    "    print()\n",
    "\n",
    "    app_reviews = []\n",
    "\n",
    "    count = 200\n",
    "\n",
    "    batch_num = 0\n",
    "\n",
    "    # Retrieve reviews (and continuation_token) with reviews function\n",
    "    rvws, token = reviews(\n",
    "        app_id,           # found in app's url\n",
    "        lang='en',        # defaults to 'en'\n",
    "        country='us',     # defaults to 'us'\n",
    "        sort=Sort.NEWEST, # start with most recent\n",
    "        count=count       # batch size\n",
    "    )  # type: ignore\n",
    "\n",
    "    for r in rvws:\n",
    "        r['app_name'] = app_name # add key for app's name\n",
    "        r['app_id'] = app_id     # add key for app's id\n",
    "\n",
    "\n",
    "    app_reviews.extend(rvws)\n",
    "\n",
    "    batch_num +=1\n",
    "    print(f'Batch {batch_num} completed.')\n",
    "\n",
    "    time.sleep(random.randint(1,5))\n",
    "\n",
    "    pre_review_ids = []\n",
    "    for rvw in app_reviews:\n",
    "        pre_review_ids.append(rvw['reviewId'])\n",
    "\n",
    "    for batch in range(4999):\n",
    "        rvws, token = reviews( # store continuation_token\n",
    "            app_id,\n",
    "            lang='en',\n",
    "            country='us',\n",
    "            sort=Sort.NEWEST,\n",
    "            count=count,\n",
    "            # using token obtained from previous batch\n",
    "            continuation_token=token\n",
    "        )\n",
    "\n",
    "        new_review_ids = []\n",
    "        for r in rvws:\n",
    "            new_review_ids.append(r['reviewId'])\n",
    "\n",
    "            r['app_name'] = app_name # add key for app's name\n",
    "            r['app_id'] = app_id     # add key for app's id\n",
    "\n",
    "        app_reviews.extend(rvws)\n",
    "\n",
    "        batch_num +=1\n",
    "\n",
    "        # Break loop and stop scraping for current app if most recent batch\n",
    "        # did not add any unique reviews\n",
    "        all_review_ids = pre_review_ids + new_review_ids\n",
    "        if len(set(pre_review_ids)) == len(set(all_review_ids)):\n",
    "            print(f'No reviews left to scrape. Completed {batch_num} batches.\\n')\n",
    "            break\n",
    "\n",
    "        # all_review_ids becomes pre_review_ids to check against\n",
    "        # for next batch\n",
    "        pre_review_ids = all_review_ids\n",
    "\n",
    "        # At every 100th batch\n",
    "        if batch_num%100==0:\n",
    "\n",
    "            # print update on number of batches\n",
    "            print(f'Batch {batch_num} completed.')\n",
    "\n",
    "            # insert reviews into collection\n",
    "            comment_collection.insert_many(app_reviews) #MongoDB\n",
    "\n",
    "            output_path = '/content/drive/MyDrive/Kuliah/RPL/scraper/PlayStore/results/' + app_name + '.csv'\n",
    "            review_df = pd.DataFrame(app_reviews)\n",
    "            review_df.to_csv(output_path, mode='a', header=not os.path.exists(output_path)) #CSV\n",
    "\n",
    "            # print update about num reviews inserted\n",
    "            store_time = dt.datetime.now(tz=get_localzone())\n",
    "            print(f\"\"\"\n",
    "            Successfully inserted {len(app_reviews)} {app_name}\n",
    "            reviews into collection at {store_time.strftime(fmt)}.\\n\n",
    "            \"\"\")\n",
    "\n",
    "            # empty our list for next round of 100 batches\n",
    "            app_reviews = []\n",
    "\n",
    "        time.sleep(random.randint(1,5))\n",
    "\n",
    "    # Print update when max number of batches has been reached\n",
    "    # OR when last batch didn't add any unique reviews\n",
    "    print(f'Done scraping {app_name}.')\n",
    "    print(f'Scraped a total of {len(set(pre_review_ids))} unique reviews.\\n')\n",
    "\n",
    "\n",
    "    # Insert remaining reviews into collection\n",
    "    comment_collection.insert_many(app_reviews)\n",
    "\n",
    "    output_path = '/content/drive/MyDrive/Kuliah/RPL/scraper/PlayStore/results/' + app_name + '.csv'\n",
    "    review_df = pd.DataFrame(app_reviews)\n",
    "    review_df.to_csv(output_path, mode='a', header=not os.path.exists(output_path))\n",
    "\n",
    "    # Get end time\n",
    "    end = dt.datetime.now(tz=get_localzone())\n",
    "\n",
    "    # Print ending output for app\n",
    "    print(f\"\"\"\n",
    "    Successfully inserted all {app_name} reviews into collection\n",
    "    at {end.strftime(fmt)}.\\n\n",
    "    \"\"\")\n",
    "    print(f'Time elapsed for {app_name}: {end-start}')\n",
    "    print('---'*20)\n",
    "    print('---'*20)\n",
    "    print('\\n')\n",
    "\n",
    "    time.sleep(random.randint(1,5))"
   ]
  }
 ],
 "metadata": {
  "accelerator": "GPU",
  "colab": {
   "gpuType": "T4",
   "provenance": [
    {
     "file_id": "https://github.com/Bang-Raf/playstore-scraper/blob/main/scrapingPS.ipynb",
     "timestamp": 1703820341043
    }
   ]
  },
  "kernelspec": {
   "display_name": "Python 3 (ipykernel)",
   "language": "python",
   "name": "python3"
  },
  "language_info": {
   "codemirror_mode": {
    "name": "ipython",
    "version": 3
   },
   "file_extension": ".py",
   "mimetype": "text/x-python",
   "name": "python",
   "nbconvert_exporter": "python",
   "pygments_lexer": "ipython3",
   "version": "3.9.15"
  },
  "vscode": {
   "interpreter": {
    "hash": "2d681002bfa98c22e3a55bd09cef3381f6316e5c0f3421472a2863e693739461"
   }
  }
 },
 "nbformat": 4,
 "nbformat_minor": 1
}
