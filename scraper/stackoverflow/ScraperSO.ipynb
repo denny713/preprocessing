{
 "cells": [
  {
   "cell_type": "code",
   "execution_count": 1,
   "metadata": {
    "id": "yDViOyjWGKT2"
   },
   "outputs": [
    {
     "name": "stdout",
     "output_type": "stream",
     "text": [
      "Collecting timed_count\n",
      "  Downloading timed_count-1.1.1-py3-none-any.whl (4.3 kB)\n",
      "Collecting stoppy<2.0.0,>=1.0.5\n",
      "  Downloading stoppy-1.0.5-py3-none-any.whl (3.1 kB)\n",
      "Installing collected packages: stoppy, timed_count\n",
      "Successfully installed stoppy-1.0.5 timed_count-1.1.1\n",
      "^C\n"
     ]
    }
   ],
   "source": [
    "!pip install timed_count\n",
    "!pip install pymongo[srv]"
   ]
  },
  {
   "cell_type": "code",
   "execution_count": 2,
   "metadata": {
    "executionInfo": {
     "elapsed": 1870,
     "status": "ok",
     "timestamp": 1703819011665,
     "user": {
      "displayName": "R. Abdullah Hammami",
      "userId": "02069717998167369570"
     },
     "user_tz": -420
    },
    "id": "913fM21TGBhs"
   },
   "outputs": [],
   "source": [
    "import pandas as pd\n",
    "import requests\n",
    "from bs4 import BeautifulSoup\n",
    "from threading import Thread\n",
    "from timed_count import timed_count\n",
    "\n",
    "from pprint import pprint\n",
    "\n",
    "import datetime as dt\n",
    "from tzlocal import get_localzone\n",
    "\n",
    "import random\n",
    "import time\n",
    "import os"
   ]
  },
  {
   "cell_type": "code",
   "execution_count": 3,
   "metadata": {
    "id": "6epGAUu6UOh9"
   },
   "outputs": [
    {
     "ename": "ModuleNotFoundError",
     "evalue": "No module named 'google.colab'",
     "output_type": "error",
     "traceback": [
      "\u001b[1;31m---------------------------------------------------------------------------\u001b[0m",
      "\u001b[1;31mModuleNotFoundError\u001b[0m                       Traceback (most recent call last)",
      "\u001b[1;32m~\\AppData\\Local\\Temp\\ipykernel_6824\\1408506528.py\u001b[0m in \u001b[0;36m<module>\u001b[1;34m\u001b[0m\n\u001b[1;32m----> 1\u001b[1;33m \u001b[1;32mfrom\u001b[0m \u001b[0mgoogle\u001b[0m\u001b[1;33m.\u001b[0m\u001b[0mcolab\u001b[0m \u001b[1;32mimport\u001b[0m \u001b[0mdrive\u001b[0m\u001b[1;33m\u001b[0m\u001b[1;33m\u001b[0m\u001b[0m\n\u001b[0m\u001b[0;32m      2\u001b[0m \u001b[0mdrive\u001b[0m\u001b[1;33m.\u001b[0m\u001b[0mmount\u001b[0m\u001b[1;33m(\u001b[0m\u001b[1;34m'/content/drive'\u001b[0m\u001b[1;33m)\u001b[0m\u001b[1;33m\u001b[0m\u001b[1;33m\u001b[0m\u001b[0m\n",
      "\u001b[1;31mModuleNotFoundError\u001b[0m: No module named 'google.colab'"
     ]
    }
   ],
   "source": [
    "# from google.colab import drive\n",
    "# drive.mount('/content/drive')"
   ]
  },
  {
   "cell_type": "code",
   "execution_count": 4,
   "metadata": {
    "executionInfo": {
     "elapsed": 303,
     "status": "ok",
     "timestamp": 1703820166172,
     "user": {
      "displayName": "R. Abdullah Hammami",
      "userId": "02069717998167369570"
     },
     "user_tz": -420
    },
    "id": "rADCdJ6gWo4H"
   },
   "outputs": [
    {
     "ename": "ConfigurationError",
     "evalue": "The DNS response does not contain an answer to the question: _mongodb._tcp.kuliah.uohhxud.mongodb.net. IN SRV",
     "output_type": "error",
     "traceback": [
      "\u001b[1;31m---------------------------------------------------------------------------\u001b[0m",
      "\u001b[1;31mConfigurationError\u001b[0m                        Traceback (most recent call last)",
      "\u001b[1;32m~\\AppData\\Local\\Temp\\ipykernel_6824\\3846013320.py\u001b[0m in \u001b[0;36m<module>\u001b[1;34m\u001b[0m\n\u001b[0;32m      8\u001b[0m \u001b[0muri\u001b[0m \u001b[1;33m=\u001b[0m \u001b[1;34m'mongodb+srv://'\u001b[0m\u001b[1;33m+\u001b[0m \u001b[0muser\u001b[0m \u001b[1;33m+\u001b[0m\u001b[1;34m':'\u001b[0m\u001b[1;33m+\u001b[0m \u001b[0msandi\u001b[0m \u001b[1;33m+\u001b[0m\u001b[1;34m'@kuliah.uohhxud.mongodb.net/?retryWrites=true&w=majority'\u001b[0m\u001b[1;33m\u001b[0m\u001b[1;33m\u001b[0m\u001b[0m\n\u001b[0;32m      9\u001b[0m \u001b[1;31m# start client to connect to MongoDB server\u001b[0m\u001b[1;33m\u001b[0m\u001b[1;33m\u001b[0m\u001b[0m\n\u001b[1;32m---> 10\u001b[1;33m \u001b[0mclient\u001b[0m \u001b[1;33m=\u001b[0m \u001b[0mMongoClient\u001b[0m\u001b[1;33m(\u001b[0m\u001b[0muri\u001b[0m\u001b[1;33m)\u001b[0m\u001b[1;33m\u001b[0m\u001b[1;33m\u001b[0m\u001b[0m\n\u001b[0m",
      "\u001b[1;32mC:\\ProgramData\\Anaconda3\\lib\\site-packages\\pymongo\\mongo_client.py\u001b[0m in \u001b[0;36m__init__\u001b[1;34m(self, host, port, document_class, tz_aware, connect, type_registry, **kwargs)\u001b[0m\n\u001b[0;32m    769\u001b[0m                         \u001b[0mkeyword_opts\u001b[0m\u001b[1;33m.\u001b[0m\u001b[0mcased_key\u001b[0m\u001b[1;33m(\u001b[0m\u001b[1;34m\"connecttimeoutms\"\u001b[0m\u001b[1;33m)\u001b[0m\u001b[1;33m,\u001b[0m \u001b[0mtimeout\u001b[0m\u001b[1;33m\u001b[0m\u001b[1;33m\u001b[0m\u001b[0m\n\u001b[0;32m    770\u001b[0m                     )\n\u001b[1;32m--> 771\u001b[1;33m                 res = uri_parser.parse_uri(\n\u001b[0m\u001b[0;32m    772\u001b[0m                     \u001b[0mentity\u001b[0m\u001b[1;33m,\u001b[0m\u001b[1;33m\u001b[0m\u001b[1;33m\u001b[0m\u001b[0m\n\u001b[0;32m    773\u001b[0m                     \u001b[0mport\u001b[0m\u001b[1;33m,\u001b[0m\u001b[1;33m\u001b[0m\u001b[1;33m\u001b[0m\u001b[0m\n",
      "\u001b[1;32mC:\\ProgramData\\Anaconda3\\lib\\site-packages\\pymongo\\uri_parser.py\u001b[0m in \u001b[0;36mparse_uri\u001b[1;34m(uri, default_port, validate, warn, normalize, connect_timeout, srv_service_name, srv_max_hosts)\u001b[0m\n\u001b[0;32m    556\u001b[0m         \u001b[0mconnect_timeout\u001b[0m \u001b[1;33m=\u001b[0m \u001b[0mconnect_timeout\u001b[0m \u001b[1;32mor\u001b[0m \u001b[0moptions\u001b[0m\u001b[1;33m.\u001b[0m\u001b[0mget\u001b[0m\u001b[1;33m(\u001b[0m\u001b[1;34m\"connectTimeoutMS\"\u001b[0m\u001b[1;33m)\u001b[0m\u001b[1;33m\u001b[0m\u001b[1;33m\u001b[0m\u001b[0m\n\u001b[0;32m    557\u001b[0m         \u001b[0mdns_resolver\u001b[0m \u001b[1;33m=\u001b[0m \u001b[0m_SrvResolver\u001b[0m\u001b[1;33m(\u001b[0m\u001b[0mfqdn\u001b[0m\u001b[1;33m,\u001b[0m \u001b[0mconnect_timeout\u001b[0m\u001b[1;33m,\u001b[0m \u001b[0msrv_service_name\u001b[0m\u001b[1;33m,\u001b[0m \u001b[0msrv_max_hosts\u001b[0m\u001b[1;33m)\u001b[0m\u001b[1;33m\u001b[0m\u001b[1;33m\u001b[0m\u001b[0m\n\u001b[1;32m--> 558\u001b[1;33m         \u001b[0mnodes\u001b[0m \u001b[1;33m=\u001b[0m \u001b[0mdns_resolver\u001b[0m\u001b[1;33m.\u001b[0m\u001b[0mget_hosts\u001b[0m\u001b[1;33m(\u001b[0m\u001b[1;33m)\u001b[0m\u001b[1;33m\u001b[0m\u001b[1;33m\u001b[0m\u001b[0m\n\u001b[0m\u001b[0;32m    559\u001b[0m         \u001b[0mdns_options\u001b[0m \u001b[1;33m=\u001b[0m \u001b[0mdns_resolver\u001b[0m\u001b[1;33m.\u001b[0m\u001b[0mget_options\u001b[0m\u001b[1;33m(\u001b[0m\u001b[1;33m)\u001b[0m\u001b[1;33m\u001b[0m\u001b[1;33m\u001b[0m\u001b[0m\n\u001b[0;32m    560\u001b[0m         \u001b[1;32mif\u001b[0m \u001b[0mdns_options\u001b[0m\u001b[1;33m:\u001b[0m\u001b[1;33m\u001b[0m\u001b[1;33m\u001b[0m\u001b[0m\n",
      "\u001b[1;32mC:\\ProgramData\\Anaconda3\\lib\\site-packages\\pymongo\\srv_resolver.py\u001b[0m in \u001b[0;36mget_hosts\u001b[1;34m(self)\u001b[0m\n\u001b[0;32m    129\u001b[0m \u001b[1;33m\u001b[0m\u001b[0m\n\u001b[0;32m    130\u001b[0m     \u001b[1;32mdef\u001b[0m \u001b[0mget_hosts\u001b[0m\u001b[1;33m(\u001b[0m\u001b[0mself\u001b[0m\u001b[1;33m)\u001b[0m \u001b[1;33m->\u001b[0m \u001b[0mlist\u001b[0m\u001b[1;33m[\u001b[0m\u001b[0mtuple\u001b[0m\u001b[1;33m[\u001b[0m\u001b[0mstr\u001b[0m\u001b[1;33m,\u001b[0m \u001b[0mAny\u001b[0m\u001b[1;33m]\u001b[0m\u001b[1;33m]\u001b[0m\u001b[1;33m:\u001b[0m\u001b[1;33m\u001b[0m\u001b[1;33m\u001b[0m\u001b[0m\n\u001b[1;32m--> 131\u001b[1;33m         \u001b[0m_\u001b[0m\u001b[1;33m,\u001b[0m \u001b[0mnodes\u001b[0m \u001b[1;33m=\u001b[0m \u001b[0mself\u001b[0m\u001b[1;33m.\u001b[0m\u001b[0m_get_srv_response_and_hosts\u001b[0m\u001b[1;33m(\u001b[0m\u001b[1;32mTrue\u001b[0m\u001b[1;33m)\u001b[0m\u001b[1;33m\u001b[0m\u001b[1;33m\u001b[0m\u001b[0m\n\u001b[0m\u001b[0;32m    132\u001b[0m         \u001b[1;32mreturn\u001b[0m \u001b[0mnodes\u001b[0m\u001b[1;33m\u001b[0m\u001b[1;33m\u001b[0m\u001b[0m\n\u001b[0;32m    133\u001b[0m \u001b[1;33m\u001b[0m\u001b[0m\n",
      "\u001b[1;32mC:\\ProgramData\\Anaconda3\\lib\\site-packages\\pymongo\\srv_resolver.py\u001b[0m in \u001b[0;36m_get_srv_response_and_hosts\u001b[1;34m(self, encapsulate_errors)\u001b[0m\n\u001b[0;32m    109\u001b[0m         \u001b[0mself\u001b[0m\u001b[1;33m,\u001b[0m \u001b[0mencapsulate_errors\u001b[0m\u001b[1;33m:\u001b[0m \u001b[0mbool\u001b[0m\u001b[1;33m\u001b[0m\u001b[1;33m\u001b[0m\u001b[0m\n\u001b[0;32m    110\u001b[0m     ) -> tuple[resolver.Answer, list[tuple[str, Any]]]:\n\u001b[1;32m--> 111\u001b[1;33m         \u001b[0mresults\u001b[0m \u001b[1;33m=\u001b[0m \u001b[0mself\u001b[0m\u001b[1;33m.\u001b[0m\u001b[0m_resolve_uri\u001b[0m\u001b[1;33m(\u001b[0m\u001b[0mencapsulate_errors\u001b[0m\u001b[1;33m)\u001b[0m\u001b[1;33m\u001b[0m\u001b[1;33m\u001b[0m\u001b[0m\n\u001b[0m\u001b[0;32m    112\u001b[0m \u001b[1;33m\u001b[0m\u001b[0m\n\u001b[0;32m    113\u001b[0m         \u001b[1;31m# Construct address tuples\u001b[0m\u001b[1;33m\u001b[0m\u001b[1;33m\u001b[0m\u001b[0m\n",
      "\u001b[1;32mC:\\ProgramData\\Anaconda3\\lib\\site-packages\\pymongo\\srv_resolver.py\u001b[0m in \u001b[0;36m_resolve_uri\u001b[1;34m(self, encapsulate_errors)\u001b[0m\n\u001b[0;32m    103\u001b[0m                 \u001b[1;32mraise\u001b[0m\u001b[1;33m\u001b[0m\u001b[1;33m\u001b[0m\u001b[0m\n\u001b[0;32m    104\u001b[0m             \u001b[1;31m# Else, raise all errors as ConfigurationError.\u001b[0m\u001b[1;33m\u001b[0m\u001b[1;33m\u001b[0m\u001b[0m\n\u001b[1;32m--> 105\u001b[1;33m             \u001b[1;32mraise\u001b[0m \u001b[0mConfigurationError\u001b[0m\u001b[1;33m(\u001b[0m\u001b[0mstr\u001b[0m\u001b[1;33m(\u001b[0m\u001b[0mexc\u001b[0m\u001b[1;33m)\u001b[0m\u001b[1;33m)\u001b[0m \u001b[1;32mfrom\u001b[0m \u001b[1;32mNone\u001b[0m\u001b[1;33m\u001b[0m\u001b[1;33m\u001b[0m\u001b[0m\n\u001b[0m\u001b[0;32m    106\u001b[0m         \u001b[1;32mreturn\u001b[0m \u001b[0mresults\u001b[0m\u001b[1;33m\u001b[0m\u001b[1;33m\u001b[0m\u001b[0m\n\u001b[0;32m    107\u001b[0m \u001b[1;33m\u001b[0m\u001b[0m\n",
      "\u001b[1;31mConfigurationError\u001b[0m: The DNS response does not contain an answer to the question: _mongodb._tcp.kuliah.uohhxud.mongodb.net. IN SRV"
     ]
    }
   ],
   "source": [
    "import pymongo\n",
    "from pymongo import MongoClient\n",
    "\n",
    "user = 'alfalimbany'\n",
    "sandi = 'BangRaf454647'\n",
    "# uri (uniform resource identifier) defines the connection parameters\n",
    "\n",
    "uri = 'mongodb+srv://'+ user +':'+ sandi +'@kuliah.uohhxud.mongodb.net/?retryWrites=true&w=majority'\n",
    "# start client to connect to MongoDB server\n",
    "client = MongoClient(uri)"
   ]
  },
  {
   "cell_type": "code",
   "execution_count": null,
   "metadata": {
    "id": "dr6XVjUlV8Ez"
   },
   "outputs": [],
   "source": [
    "client.stats                                # .stats  show details about the client"
   ]
  },
  {
   "cell_type": "code",
   "execution_count": null,
   "metadata": {
    "executionInfo": {
     "elapsed": 1,
     "status": "ok",
     "timestamp": 1703820169246,
     "user": {
      "displayName": "R. Abdullah Hammami",
      "userId": "02069717998167369570"
     },
     "user_tz": -420
    },
    "id": "Hbk5nElsn45D"
   },
   "outputs": [],
   "source": [
    "StackOverflow_db = client['StackOverflow_db']\n",
    "\n",
    "info_collection = StackOverflow_db['info_collection']\n",
    "\n",
    "comment_collection = StackOverflow_db['comment_collection']"
   ]
  },
  {
   "cell_type": "code",
   "execution_count": null,
   "metadata": {
    "executionInfo": {
     "elapsed": 288,
     "status": "ok",
     "timestamp": 1703820171714,
     "user": {
      "displayName": "R. Abdullah Hammami",
      "userId": "02069717998167369570"
     },
     "user_tz": -420
    },
    "id": "wMsSGCTGGBh1"
   },
   "outputs": [],
   "source": [
    "target = 'StackOverflow'"
   ]
  },
  {
   "cell_type": "code",
   "execution_count": null,
   "metadata": {
    "executionInfo": {
     "elapsed": 2,
     "status": "ok",
     "timestamp": 1703820173148,
     "user": {
      "displayName": "R. Abdullah Hammami",
      "userId": "02069717998167369570"
     },
     "user_tz": -420
    },
    "id": "R_nwiybIGBh2"
   },
   "outputs": [],
   "source": [
    "def scrap(data):\n",
    "    allData = []\n",
    "    start = dt.datetime.now(tz=get_localzone())\n",
    "    fmt = \"%m/%d/%y - %T %p\"\n",
    "    # Print starting output for app\n",
    "    print('---'*20)\n",
    "    print('---'*20)\n",
    "    print(f'***** {target} started at {start.strftime(fmt)}')\n",
    "    print()\n",
    "    # looping data to scrap more details\n",
    "    for item in data:\n",
    "        # define target scrap based on question id\n",
    "        url = 'https://stackoverflow.com/questions/' + str(item['question_id'])\n",
    "        # make request to api\n",
    "        req = requests.get(url)\n",
    "        # parsing request with Beautifulsoup html parser\n",
    "        soup = BeautifulSoup(req.text, 'html.parser')\n",
    "        # defining variables\n",
    "        question_id = str(item['question_id'])\n",
    "        title = soup.find('a', {'class': 'question-hyperlink'}).text.strip() # type: ignore\n",
    "        content = soup.find('div', {'class': 'js-post-body'}).text.strip()  # type: ignore\n",
    "        post_tag = str(item['tags'])[1:-1]\n",
    "        if str(item['owner']['user_id']) != '':\n",
    "          user_id = str(item['owner']['user_id'])\n",
    "        else:\n",
    "          user_id = '-'\n",
    "        question_stamp = soup.time.attrs # type: ignore\n",
    "        # Array untuk menyimpan hasil scraping\n",
    "        answers_data = []\n",
    "\n",
    "        # Find all answer divs\n",
    "        answer_divs = soup.find_all('div', {'class': 'answer'})\n",
    "\n",
    "        # Extract information from each answer\n",
    "        for i, answer_div in enumerate(answer_divs):\n",
    "            if i < 3:  # Adjust the number to the desired number of answers to display\n",
    "                # Extract user_id\n",
    "                user_id_tag = answer_div.find('div', {'itemprop': 'author'}).find('a')\n",
    "                answer_user_id = user_id_tag['href'].split('/')[-2] if user_id_tag else \"Kosong\"\n",
    "                # Extract answer text\n",
    "                answer_text_tag = answer_div.find('div', {'class': 's-prose'})\n",
    "                answer_text = answer_text_tag.text.strip() if answer_text_tag else \"Kosong\"\n",
    "\n",
    "                # Extract upvote count\n",
    "                upvote_count_tag = answer_div.find('div', {'class': 'js-vote-count'})\n",
    "                upvote_count = upvote_count_tag.text.strip() if upvote_count_tag else \"0\"\n",
    "\n",
    "                # Extract answer time based on user-action-time\n",
    "                answer_time_tag = answer_div.find('div', {'class': 'user-action-time'}).find('span', {'class': 'relativetime'})\n",
    "                answer_time = answer_time_tag['title'].replace('Z', '') if answer_time_tag else \"Kosong\"\n",
    "\n",
    "                # Extract comments for each answer\n",
    "                comments = []\n",
    "                comments_list = answer_div.find('ul', {'class': 'comments-list'})\n",
    "                if comments_list:\n",
    "                    for comment_div in comments_list.find_all('li', {'class': 'comment'}):\n",
    "                        # Extract comment text\n",
    "                        comment_text_tag = comment_div.find('span', {'class': 'comment-copy'})\n",
    "                        comment_text = comment_text_tag.text.strip() if comment_text_tag else \"Kosong\"\n",
    "\n",
    "                        # Extract comment user_id\n",
    "                        comment_user_id_tag = comment_div.find('a', {'class': 'comment-user'})\n",
    "                        comment_user_id = comment_user_id_tag['href'].split('/')[-2] if comment_user_id_tag else \"Kosong\"\n",
    "\n",
    "                        # Extract comment date\n",
    "                        comment_date_tag = comment_div.find('span', {'class': 'relativetime-clean'})\n",
    "                        comment_date = comment_date_tag['title'].replace('Z, License: CC BY-SA ', '').replace('3.0', '').replace('4.0', '').replace('5.0', '') if comment_date_tag else \"Kosong\"\n",
    "\n",
    "                        comments.append({'comment_text': comment_text, 'comment_user_id': comment_user_id, 'comment_date': comment_date})\n",
    "\n",
    "                # Menyimpan data jawaban ke dalam array\n",
    "                answer_data = {\n",
    "                    'answer_user_id': answer_user_id,\n",
    "                    'answer_text': answer_text,\n",
    "                    'answer_time': answer_time,\n",
    "                    'upvote_count': upvote_count,\n",
    "                    'comments': comments\n",
    "                }\n",
    "                answers_data.append(answer_data)\n",
    "        # appending item to array\n",
    "        allData.append({'question_id': question_id,'title': title, 'content': content, 'post_tag': post_tag, 'user_id': user_id, 'question_stamp': question_stamp['datetime'], 'answers': answers_data})\n",
    "        time.sleep(1.0)\n",
    "    #Save into MongoDB\n",
    "    comment_collection.insert_many(allData)\n",
    "    # transform array to Pandas DataFrame\n",
    "    check_out = pd.DataFrame(allData)\n",
    "    # output path for storing data\n",
    "    output_path = '/content/drive/MyDrive/Kuliah/RPL/scraper/' + target + '.csv'\n",
    "    # storing data into csv format\n",
    "    check_out.to_csv(output_path, mode='a', header=not os.path.exists(output_path))\n",
    "    allData.clear()\n",
    "    end = dt.datetime.now(tz=get_localzone())\n",
    "    print(f\"\"\"\n",
    "        Successfully inserted {len(check_out)} {target} Questions into collection\n",
    "        at {end.strftime(fmt)}.\\n\n",
    "        \"\"\")\n",
    "    print(f'Time elapsed for {target}: {end-start}')\n",
    "    print('---'*20)\n",
    "    print('---'*20)\n",
    "    print('\\n')"
   ]
  },
  {
   "cell_type": "code",
   "execution_count": null,
   "metadata": {
    "id": "Q7Hok1VZGBh3"
   },
   "outputs": [],
   "source": [
    "question_count = 10\n",
    "for count in timed_count(120):\n",
    "    api = requests.get(\n",
    "        'https://api.stackexchange.com/2.3/search/advanced?pagesize='+\n",
    "        str(question_count) +'&order=desc&sort=activity&site=stackoverflow').json()\n",
    "    data = api['items']\n",
    "    scrap(data)"
   ]
  },
  {
   "cell_type": "code",
   "execution_count": null,
   "metadata": {
    "id": "MSqoU-FXI1HE"
   },
   "outputs": [],
   "source": [
    "api = requests.get(\n",
    "        'https://api.stackexchange.com/2.3/search/advanced?pagesize=2&order=desc&sort=activity&site=stackoverflow').json()\n",
    "data = api['items']\n",
    "scrap(data)"
   ]
  }
 ],
 "metadata": {
  "accelerator": "TPU",
  "colab": {
   "provenance": [
    {
     "file_id": "https://github.com/Bang-Raf/Stack-Overflow-Scraper/blob/main/ScraperSO.ipynb",
     "timestamp": 1700207106625
    }
   ]
  },
  "kernelspec": {
   "display_name": "Python 3 (ipykernel)",
   "language": "python",
   "name": "python3"
  },
  "language_info": {
   "codemirror_mode": {
    "name": "ipython",
    "version": 3
   },
   "file_extension": ".py",
   "mimetype": "text/x-python",
   "name": "python",
   "nbconvert_exporter": "python",
   "pygments_lexer": "ipython3",
   "version": "3.9.15"
  },
  "vscode": {
   "interpreter": {
    "hash": "2d681002bfa98c22e3a55bd09cef3381f6316e5c0f3421472a2863e693739461"
   }
  }
 },
 "nbformat": 4,
 "nbformat_minor": 1
}
